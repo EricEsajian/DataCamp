{
  "nbformat": 4,
  "nbformat_minor": 0,
  "metadata": {
    "colab": {
      "name": "RNN - Recurrent Neural Network & LSTM Modeling.ipynb",
      "provenance": [],
      "collapsed_sections": [],
      "toc_visible": true,
      "authorship_tag": "ABX9TyOqcNRGiNhLFdxGydEO12MD",
      "include_colab_link": true
    },
    "kernelspec": {
      "name": "python3",
      "display_name": "Python 3"
    }
  },
  "cells": [
    {
      "cell_type": "markdown",
      "metadata": {
        "id": "view-in-github",
        "colab_type": "text"
      },
      "source": [
        "<a href=\"https://colab.research.google.com/github/EricEsajian/deep_learning_models/blob/master/RNN_Recurrent_Neural_Network_%26_LSTM_Modeling.ipynb\" target=\"_parent\"><img src=\"https://colab.research.google.com/assets/colab-badge.svg\" alt=\"Open In Colab\"/></a>"
      ]
    },
    {
      "cell_type": "code",
      "metadata": {
        "id": "767J9O7HmBdp",
        "colab_type": "code",
        "colab": {}
      },
      "source": [
        "import pandas as pd\n",
        "import numpy as np\n",
        "%matplotlib inline\n",
        "import matplotlib.pyplot as plt"
      ],
      "execution_count": 0,
      "outputs": []
    },
    {
      "cell_type": "code",
      "metadata": {
        "id": "WX0MX9knmDss",
        "colab_type": "code",
        "colab": {}
      },
      "source": [
        "x = np.linspace(0,50,501)"
      ],
      "execution_count": 0,
      "outputs": []
    },
    {
      "cell_type": "code",
      "metadata": {
        "id": "sLLGzlw4melF",
        "colab_type": "code",
        "colab": {
          "base_uri": "https://localhost:8080/",
          "height": 799
        },
        "outputId": "d45b239e-ccb4-4c3f-de62-f7e42718bf77"
      },
      "source": [
        "x"
      ],
      "execution_count": 28,
      "outputs": [
        {
          "output_type": "execute_result",
          "data": {
            "text/plain": [
              "array([ 0. ,  0.1,  0.2,  0.3,  0.4,  0.5,  0.6,  0.7,  0.8,  0.9,  1. ,\n",
              "        1.1,  1.2,  1.3,  1.4,  1.5,  1.6,  1.7,  1.8,  1.9,  2. ,  2.1,\n",
              "        2.2,  2.3,  2.4,  2.5,  2.6,  2.7,  2.8,  2.9,  3. ,  3.1,  3.2,\n",
              "        3.3,  3.4,  3.5,  3.6,  3.7,  3.8,  3.9,  4. ,  4.1,  4.2,  4.3,\n",
              "        4.4,  4.5,  4.6,  4.7,  4.8,  4.9,  5. ,  5.1,  5.2,  5.3,  5.4,\n",
              "        5.5,  5.6,  5.7,  5.8,  5.9,  6. ,  6.1,  6.2,  6.3,  6.4,  6.5,\n",
              "        6.6,  6.7,  6.8,  6.9,  7. ,  7.1,  7.2,  7.3,  7.4,  7.5,  7.6,\n",
              "        7.7,  7.8,  7.9,  8. ,  8.1,  8.2,  8.3,  8.4,  8.5,  8.6,  8.7,\n",
              "        8.8,  8.9,  9. ,  9.1,  9.2,  9.3,  9.4,  9.5,  9.6,  9.7,  9.8,\n",
              "        9.9, 10. , 10.1, 10.2, 10.3, 10.4, 10.5, 10.6, 10.7, 10.8, 10.9,\n",
              "       11. , 11.1, 11.2, 11.3, 11.4, 11.5, 11.6, 11.7, 11.8, 11.9, 12. ,\n",
              "       12.1, 12.2, 12.3, 12.4, 12.5, 12.6, 12.7, 12.8, 12.9, 13. , 13.1,\n",
              "       13.2, 13.3, 13.4, 13.5, 13.6, 13.7, 13.8, 13.9, 14. , 14.1, 14.2,\n",
              "       14.3, 14.4, 14.5, 14.6, 14.7, 14.8, 14.9, 15. , 15.1, 15.2, 15.3,\n",
              "       15.4, 15.5, 15.6, 15.7, 15.8, 15.9, 16. , 16.1, 16.2, 16.3, 16.4,\n",
              "       16.5, 16.6, 16.7, 16.8, 16.9, 17. , 17.1, 17.2, 17.3, 17.4, 17.5,\n",
              "       17.6, 17.7, 17.8, 17.9, 18. , 18.1, 18.2, 18.3, 18.4, 18.5, 18.6,\n",
              "       18.7, 18.8, 18.9, 19. , 19.1, 19.2, 19.3, 19.4, 19.5, 19.6, 19.7,\n",
              "       19.8, 19.9, 20. , 20.1, 20.2, 20.3, 20.4, 20.5, 20.6, 20.7, 20.8,\n",
              "       20.9, 21. , 21.1, 21.2, 21.3, 21.4, 21.5, 21.6, 21.7, 21.8, 21.9,\n",
              "       22. , 22.1, 22.2, 22.3, 22.4, 22.5, 22.6, 22.7, 22.8, 22.9, 23. ,\n",
              "       23.1, 23.2, 23.3, 23.4, 23.5, 23.6, 23.7, 23.8, 23.9, 24. , 24.1,\n",
              "       24.2, 24.3, 24.4, 24.5, 24.6, 24.7, 24.8, 24.9, 25. , 25.1, 25.2,\n",
              "       25.3, 25.4, 25.5, 25.6, 25.7, 25.8, 25.9, 26. , 26.1, 26.2, 26.3,\n",
              "       26.4, 26.5, 26.6, 26.7, 26.8, 26.9, 27. , 27.1, 27.2, 27.3, 27.4,\n",
              "       27.5, 27.6, 27.7, 27.8, 27.9, 28. , 28.1, 28.2, 28.3, 28.4, 28.5,\n",
              "       28.6, 28.7, 28.8, 28.9, 29. , 29.1, 29.2, 29.3, 29.4, 29.5, 29.6,\n",
              "       29.7, 29.8, 29.9, 30. , 30.1, 30.2, 30.3, 30.4, 30.5, 30.6, 30.7,\n",
              "       30.8, 30.9, 31. , 31.1, 31.2, 31.3, 31.4, 31.5, 31.6, 31.7, 31.8,\n",
              "       31.9, 32. , 32.1, 32.2, 32.3, 32.4, 32.5, 32.6, 32.7, 32.8, 32.9,\n",
              "       33. , 33.1, 33.2, 33.3, 33.4, 33.5, 33.6, 33.7, 33.8, 33.9, 34. ,\n",
              "       34.1, 34.2, 34.3, 34.4, 34.5, 34.6, 34.7, 34.8, 34.9, 35. , 35.1,\n",
              "       35.2, 35.3, 35.4, 35.5, 35.6, 35.7, 35.8, 35.9, 36. , 36.1, 36.2,\n",
              "       36.3, 36.4, 36.5, 36.6, 36.7, 36.8, 36.9, 37. , 37.1, 37.2, 37.3,\n",
              "       37.4, 37.5, 37.6, 37.7, 37.8, 37.9, 38. , 38.1, 38.2, 38.3, 38.4,\n",
              "       38.5, 38.6, 38.7, 38.8, 38.9, 39. , 39.1, 39.2, 39.3, 39.4, 39.5,\n",
              "       39.6, 39.7, 39.8, 39.9, 40. , 40.1, 40.2, 40.3, 40.4, 40.5, 40.6,\n",
              "       40.7, 40.8, 40.9, 41. , 41.1, 41.2, 41.3, 41.4, 41.5, 41.6, 41.7,\n",
              "       41.8, 41.9, 42. , 42.1, 42.2, 42.3, 42.4, 42.5, 42.6, 42.7, 42.8,\n",
              "       42.9, 43. , 43.1, 43.2, 43.3, 43.4, 43.5, 43.6, 43.7, 43.8, 43.9,\n",
              "       44. , 44.1, 44.2, 44.3, 44.4, 44.5, 44.6, 44.7, 44.8, 44.9, 45. ,\n",
              "       45.1, 45.2, 45.3, 45.4, 45.5, 45.6, 45.7, 45.8, 45.9, 46. , 46.1,\n",
              "       46.2, 46.3, 46.4, 46.5, 46.6, 46.7, 46.8, 46.9, 47. , 47.1, 47.2,\n",
              "       47.3, 47.4, 47.5, 47.6, 47.7, 47.8, 47.9, 48. , 48.1, 48.2, 48.3,\n",
              "       48.4, 48.5, 48.6, 48.7, 48.8, 48.9, 49. , 49.1, 49.2, 49.3, 49.4,\n",
              "       49.5, 49.6, 49.7, 49.8, 49.9, 50. ])"
            ]
          },
          "metadata": {
            "tags": []
          },
          "execution_count": 28
        }
      ]
    },
    {
      "cell_type": "code",
      "metadata": {
        "id": "pVz-_cP5n0gU",
        "colab_type": "code",
        "colab": {}
      },
      "source": [
        "y = np.sin(x)"
      ],
      "execution_count": 0,
      "outputs": []
    },
    {
      "cell_type": "code",
      "metadata": {
        "id": "q8fdNUWzn3X6",
        "colab_type": "code",
        "colab": {
          "base_uri": "https://localhost:8080/",
          "height": 282
        },
        "outputId": "2c00c1c2-695d-471b-94eb-0a8f8274277e"
      },
      "source": [
        "plt.plot(x,y)"
      ],
      "execution_count": 30,
      "outputs": [
        {
          "output_type": "execute_result",
          "data": {
            "text/plain": [
              "[<matplotlib.lines.Line2D at 0x7f9f1a1e8ac8>]"
            ]
          },
          "metadata": {
            "tags": []
          },
          "execution_count": 30
        },
        {
          "output_type": "display_data",
          "data": {
            "image/png": "[encoded data removed]",
            "text/plain": [
              "<Figure size 432x288 with 1 Axes>"
            ]
          },
          "metadata": {
            "tags": []
          }
        }
      ]
    },
    {
      "cell_type": "code",
      "metadata": {
        "id": "3JfVqA4kn5Wi",
        "colab_type": "code",
        "colab": {}
      },
      "source": [
        "df = pd.DataFrame(data=y,index=x,columns=['Sine'])"
      ],
      "execution_count": 0,
      "outputs": []
    },
    {
      "cell_type": "code",
      "metadata": {
        "id": "fhajxf7wn8HZ",
        "colab_type": "code",
        "colab": {
          "base_uri": "https://localhost:8080/",
          "height": 419
        },
        "outputId": "dc460f67-42c4-4771-ba0d-ad7622d57f55"
      },
      "source": [
        "df"
      ],
      "execution_count": 32,
      "outputs": [
        {
          "output_type": "execute_result",
          "data": {
            "text/html": [
              "<div>\n",
              "<style scoped>\n",
              "    .dataframe tbody tr th:only-of-type {\n",
              "        vertical-align: middle;\n",
              "    }\n",
              "\n",
              "    .dataframe tbody tr th {\n",
              "        vertical-align: top;\n",
              "    }\n",
              "\n",
              "    .dataframe thead th {\n",
              "        text-align: right;\n",
              "    }\n",
              "</style>\n",
              "<table border=\"1\" class=\"dataframe\">\n",
              "  <thead>\n",
              "    <tr style=\"text-align: right;\">\n",
              "      <th></th>\n",
              "      <th>Sine</th>\n",
              "    </tr>\n",
              "  </thead>\n",
              "  <tbody>\n",
              "    <tr>\n",
              "      <th>0.0</th>\n",
              "      <td>0.000000</td>\n",
              "    </tr>\n",
              "    <tr>\n",
              "      <th>0.1</th>\n",
              "      <td>0.099833</td>\n",
              "    </tr>\n",
              "    <tr>\n",
              "      <th>0.2</th>\n",
              "      <td>0.198669</td>\n",
              "    </tr>\n",
              "    <tr>\n",
              "      <th>0.3</th>\n",
              "      <td>0.295520</td>\n",
              "    </tr>\n",
              "    <tr>\n",
              "      <th>0.4</th>\n",
              "      <td>0.389418</td>\n",
              "    </tr>\n",
              "    <tr>\n",
              "      <th>...</th>\n",
              "      <td>...</td>\n",
              "    </tr>\n",
              "    <tr>\n",
              "      <th>49.6</th>\n",
              "      <td>-0.617439</td>\n",
              "    </tr>\n",
              "    <tr>\n",
              "      <th>49.7</th>\n",
              "      <td>-0.535823</td>\n",
              "    </tr>\n",
              "    <tr>\n",
              "      <th>49.8</th>\n",
              "      <td>-0.448854</td>\n",
              "    </tr>\n",
              "    <tr>\n",
              "      <th>49.9</th>\n",
              "      <td>-0.357400</td>\n",
              "    </tr>\n",
              "    <tr>\n",
              "      <th>50.0</th>\n",
              "      <td>-0.262375</td>\n",
              "    </tr>\n",
              "  </tbody>\n",
              "</table>\n",
              "<p>501 rows × 1 columns</p>\n",
              "</div>"
            ],
            "text/plain": [
              "          Sine\n",
              "0.0   0.000000\n",
              "0.1   0.099833\n",
              "0.2   0.198669\n",
              "0.3   0.295520\n",
              "0.4   0.389418\n",
              "...        ...\n",
              "49.6 -0.617439\n",
              "49.7 -0.535823\n",
              "49.8 -0.448854\n",
              "49.9 -0.357400\n",
              "50.0 -0.262375\n",
              "\n",
              "[501 rows x 1 columns]"
            ]
          },
          "metadata": {
            "tags": []
          },
          "execution_count": 32
        }
      ]
    },
    {
      "cell_type": "code",
      "metadata": {
        "id": "j5lX8qJOn9EM",
        "colab_type": "code",
        "colab": {
          "base_uri": "https://localhost:8080/",
          "height": 34
        },
        "outputId": "0ed9b583-8146-4ab4-972b-28d442c28992"
      },
      "source": [
        "len(df)"
      ],
      "execution_count": 33,
      "outputs": [
        {
          "output_type": "execute_result",
          "data": {
            "text/plain": [
              "501"
            ]
          },
          "metadata": {
            "tags": []
          },
          "execution_count": 33
        }
      ]
    },
    {
      "cell_type": "code",
      "metadata": {
        "id": "5OutmBgun_Ry",
        "colab_type": "code",
        "colab": {}
      },
      "source": [
        "test_percent = 0.1"
      ],
      "execution_count": 0,
      "outputs": []
    },
    {
      "cell_type": "code",
      "metadata": {
        "id": "JI2G5eGioA0h",
        "colab_type": "code",
        "colab": {
          "base_uri": "https://localhost:8080/",
          "height": 34
        },
        "outputId": "1c633fdc-745c-4cf7-d0ac-c2d58b84bea8"
      },
      "source": [
        "len(df)*test_percent"
      ],
      "execution_count": 35,
      "outputs": [
        {
          "output_type": "execute_result",
          "data": {
            "text/plain": [
              "50.1"
            ]
          },
          "metadata": {
            "tags": []
          },
          "execution_count": 35
        }
      ]
    },
    {
      "cell_type": "code",
      "metadata": {
        "id": "VgOdDLjzoC6q",
        "colab_type": "code",
        "colab": {}
      },
      "source": [
        "test_point = np.round(len(df)*test_percent)"
      ],
      "execution_count": 0,
      "outputs": []
    },
    {
      "cell_type": "code",
      "metadata": {
        "id": "_Rl5z8yFoE7J",
        "colab_type": "code",
        "colab": {
          "base_uri": "https://localhost:8080/",
          "height": 34
        },
        "outputId": "3d271746-d66a-4f46-9036-c61473c4ab31"
      },
      "source": [
        "test_point"
      ],
      "execution_count": 37,
      "outputs": [
        {
          "output_type": "execute_result",
          "data": {
            "text/plain": [
              "50.0"
            ]
          },
          "metadata": {
            "tags": []
          },
          "execution_count": 37
        }
      ]
    },
    {
      "cell_type": "code",
      "metadata": {
        "id": "D5uUr3NloGdB",
        "colab_type": "code",
        "colab": {}
      },
      "source": [
        "test_ind = int(len(df)-test_point)"
      ],
      "execution_count": 0,
      "outputs": []
    },
    {
      "cell_type": "code",
      "metadata": {
        "id": "fn5h7vYqoIbZ",
        "colab_type": "code",
        "colab": {
          "base_uri": "https://localhost:8080/",
          "height": 34
        },
        "outputId": "7d13dbe9-c24f-49d7-d23f-d5617a6138c0"
      },
      "source": [
        "test_ind"
      ],
      "execution_count": 39,
      "outputs": [
        {
          "output_type": "execute_result",
          "data": {
            "text/plain": [
              "451"
            ]
          },
          "metadata": {
            "tags": []
          },
          "execution_count": 39
        }
      ]
    },
    {
      "cell_type": "code",
      "metadata": {
        "id": "gcgYBCbkoJo5",
        "colab_type": "code",
        "colab": {}
      },
      "source": [
        "train = df.iloc[:test_ind]"
      ],
      "execution_count": 0,
      "outputs": []
    },
    {
      "cell_type": "code",
      "metadata": {
        "id": "27q6whh6oLzJ",
        "colab_type": "code",
        "colab": {}
      },
      "source": [
        "test = df.iloc[test_ind:]"
      ],
      "execution_count": 0,
      "outputs": []
    },
    {
      "cell_type": "code",
      "metadata": {
        "id": "gPJNMfAdoNsh",
        "colab_type": "code",
        "colab": {
          "base_uri": "https://localhost:8080/",
          "height": 419
        },
        "outputId": "d3ef2ae8-d647-4b78-bbcc-0d87a44ecaa1"
      },
      "source": [
        "train"
      ],
      "execution_count": 42,
      "outputs": [
        {
          "output_type": "execute_result",
          "data": {
            "text/html": [
              "<div>\n",
              "<style scoped>\n",
              "    .dataframe tbody tr th:only-of-type {\n",
              "        vertical-align: middle;\n",
              "    }\n",
              "\n",
              "    .dataframe tbody tr th {\n",
              "        vertical-align: top;\n",
              "    }\n",
              "\n",
              "    .dataframe thead th {\n",
              "        text-align: right;\n",
              "    }\n",
              "</style>\n",
              "<table border=\"1\" class=\"dataframe\">\n",
              "  <thead>\n",
              "    <tr style=\"text-align: right;\">\n",
              "      <th></th>\n",
              "      <th>Sine</th>\n",
              "    </tr>\n",
              "  </thead>\n",
              "  <tbody>\n",
              "    <tr>\n",
              "      <th>0.0</th>\n",
              "      <td>0.000000</td>\n",
              "    </tr>\n",
              "    <tr>\n",
              "      <th>0.1</th>\n",
              "      <td>0.099833</td>\n",
              "    </tr>\n",
              "    <tr>\n",
              "      <th>0.2</th>\n",
              "      <td>0.198669</td>\n",
              "    </tr>\n",
              "    <tr>\n",
              "      <th>0.3</th>\n",
              "      <td>0.295520</td>\n",
              "    </tr>\n",
              "    <tr>\n",
              "      <th>0.4</th>\n",
              "      <td>0.389418</td>\n",
              "    </tr>\n",
              "    <tr>\n",
              "      <th>...</th>\n",
              "      <td>...</td>\n",
              "    </tr>\n",
              "    <tr>\n",
              "      <th>44.6</th>\n",
              "      <td>0.579164</td>\n",
              "    </tr>\n",
              "    <tr>\n",
              "      <th>44.7</th>\n",
              "      <td>0.657656</td>\n",
              "    </tr>\n",
              "    <tr>\n",
              "      <th>44.8</th>\n",
              "      <td>0.729577</td>\n",
              "    </tr>\n",
              "    <tr>\n",
              "      <th>44.9</th>\n",
              "      <td>0.794208</td>\n",
              "    </tr>\n",
              "    <tr>\n",
              "      <th>45.0</th>\n",
              "      <td>0.850904</td>\n",
              "    </tr>\n",
              "  </tbody>\n",
              "</table>\n",
              "<p>451 rows × 1 columns</p>\n",
              "</div>"
            ],
            "text/plain": [
              "          Sine\n",
              "0.0   0.000000\n",
              "0.1   0.099833\n",
              "0.2   0.198669\n",
              "0.3   0.295520\n",
              "0.4   0.389418\n",
              "...        ...\n",
              "44.6  0.579164\n",
              "44.7  0.657656\n",
              "44.8  0.729577\n",
              "44.9  0.794208\n",
              "45.0  0.850904\n",
              "\n",
              "[451 rows x 1 columns]"
            ]
          },
          "metadata": {
            "tags": []
          },
          "execution_count": 42
        }
      ]
    },
    {
      "cell_type": "code",
      "metadata": {
        "id": "TuKu2cbioOVR",
        "colab_type": "code",
        "colab": {
          "base_uri": "https://localhost:8080/",
          "height": 1000
        },
        "outputId": "2f42459e-4630-48a2-8a70-822c55536017"
      },
      "source": [
        "test"
      ],
      "execution_count": 43,
      "outputs": [
        {
          "output_type": "execute_result",
          "data": {
            "text/html": [
              "<div>\n",
              "<style scoped>\n",
              "    .dataframe tbody tr th:only-of-type {\n",
              "        vertical-align: middle;\n",
              "    }\n",
              "\n",
              "    .dataframe tbody tr th {\n",
              "        vertical-align: top;\n",
              "    }\n",
              "\n",
              "    .dataframe thead th {\n",
              "        text-align: right;\n",
              "    }\n",
              "</style>\n",
              "<table border=\"1\" class=\"dataframe\">\n",
              "  <thead>\n",
              "    <tr style=\"text-align: right;\">\n",
              "      <th></th>\n",
              "      <th>Sine</th>\n",
              "    </tr>\n",
              "  </thead>\n",
              "  <tbody>\n",
              "    <tr>\n",
              "      <th>45.1</th>\n",
              "      <td>0.899097</td>\n",
              "    </tr>\n",
              "    <tr>\n",
              "      <th>45.2</th>\n",
              "      <td>0.938307</td>\n",
              "    </tr>\n",
              "    <tr>\n",
              "      <th>45.3</th>\n",
              "      <td>0.968142</td>\n",
              "    </tr>\n",
              "    <tr>\n",
              "      <th>45.4</th>\n",
              "      <td>0.988304</td>\n",
              "    </tr>\n",
              "    <tr>\n",
              "      <th>45.5</th>\n",
              "      <td>0.998591</td>\n",
              "    </tr>\n",
              "    <tr>\n",
              "      <th>45.6</th>\n",
              "      <td>0.998900</td>\n",
              "    </tr>\n",
              "    <tr>\n",
              "      <th>45.7</th>\n",
              "      <td>0.989229</td>\n",
              "    </tr>\n",
              "    <tr>\n",
              "      <th>45.8</th>\n",
              "      <td>0.969673</td>\n",
              "    </tr>\n",
              "    <tr>\n",
              "      <th>45.9</th>\n",
              "      <td>0.940429</td>\n",
              "    </tr>\n",
              "    <tr>\n",
              "      <th>46.0</th>\n",
              "      <td>0.901788</td>\n",
              "    </tr>\n",
              "    <tr>\n",
              "      <th>46.1</th>\n",
              "      <td>0.854137</td>\n",
              "    </tr>\n",
              "    <tr>\n",
              "      <th>46.2</th>\n",
              "      <td>0.797952</td>\n",
              "    </tr>\n",
              "    <tr>\n",
              "      <th>46.3</th>\n",
              "      <td>0.733794</td>\n",
              "    </tr>\n",
              "    <tr>\n",
              "      <th>46.4</th>\n",
              "      <td>0.662304</td>\n",
              "    </tr>\n",
              "    <tr>\n",
              "      <th>46.5</th>\n",
              "      <td>0.584197</td>\n",
              "    </tr>\n",
              "    <tr>\n",
              "      <th>46.6</th>\n",
              "      <td>0.500252</td>\n",
              "    </tr>\n",
              "    <tr>\n",
              "      <th>46.7</th>\n",
              "      <td>0.411309</td>\n",
              "    </tr>\n",
              "    <tr>\n",
              "      <th>46.8</th>\n",
              "      <td>0.318257</td>\n",
              "    </tr>\n",
              "    <tr>\n",
              "      <th>46.9</th>\n",
              "      <td>0.222024</td>\n",
              "    </tr>\n",
              "    <tr>\n",
              "      <th>47.0</th>\n",
              "      <td>0.123573</td>\n",
              "    </tr>\n",
              "    <tr>\n",
              "      <th>47.1</th>\n",
              "      <td>0.023888</td>\n",
              "    </tr>\n",
              "    <tr>\n",
              "      <th>47.2</th>\n",
              "      <td>-0.076037</td>\n",
              "    </tr>\n",
              "    <tr>\n",
              "      <th>47.3</th>\n",
              "      <td>-0.175201</td>\n",
              "    </tr>\n",
              "    <tr>\n",
              "      <th>47.4</th>\n",
              "      <td>-0.272615</td>\n",
              "    </tr>\n",
              "    <tr>\n",
              "      <th>47.5</th>\n",
              "      <td>-0.367305</td>\n",
              "    </tr>\n",
              "    <tr>\n",
              "      <th>47.6</th>\n",
              "      <td>-0.458325</td>\n",
              "    </tr>\n",
              "    <tr>\n",
              "      <th>47.7</th>\n",
              "      <td>-0.544766</td>\n",
              "    </tr>\n",
              "    <tr>\n",
              "      <th>47.8</th>\n",
              "      <td>-0.625764</td>\n",
              "    </tr>\n",
              "    <tr>\n",
              "      <th>47.9</th>\n",
              "      <td>-0.700509</td>\n",
              "    </tr>\n",
              "    <tr>\n",
              "      <th>48.0</th>\n",
              "      <td>-0.768255</td>\n",
              "    </tr>\n",
              "    <tr>\n",
              "      <th>48.1</th>\n",
              "      <td>-0.828324</td>\n",
              "    </tr>\n",
              "    <tr>\n",
              "      <th>48.2</th>\n",
              "      <td>-0.880118</td>\n",
              "    </tr>\n",
              "    <tr>\n",
              "      <th>48.3</th>\n",
              "      <td>-0.923117</td>\n",
              "    </tr>\n",
              "    <tr>\n",
              "      <th>48.4</th>\n",
              "      <td>-0.956893</td>\n",
              "    </tr>\n",
              "    <tr>\n",
              "      <th>48.5</th>\n",
              "      <td>-0.981108</td>\n",
              "    </tr>\n",
              "    <tr>\n",
              "      <th>48.6</th>\n",
              "      <td>-0.995521</td>\n",
              "    </tr>\n",
              "    <tr>\n",
              "      <th>48.7</th>\n",
              "      <td>-0.999986</td>\n",
              "    </tr>\n",
              "    <tr>\n",
              "      <th>48.8</th>\n",
              "      <td>-0.994460</td>\n",
              "    </tr>\n",
              "    <tr>\n",
              "      <th>48.9</th>\n",
              "      <td>-0.978997</td>\n",
              "    </tr>\n",
              "    <tr>\n",
              "      <th>49.0</th>\n",
              "      <td>-0.953753</td>\n",
              "    </tr>\n",
              "    <tr>\n",
              "      <th>49.1</th>\n",
              "      <td>-0.918979</td>\n",
              "    </tr>\n",
              "    <tr>\n",
              "      <th>49.2</th>\n",
              "      <td>-0.875023</td>\n",
              "    </tr>\n",
              "    <tr>\n",
              "      <th>49.3</th>\n",
              "      <td>-0.822324</td>\n",
              "    </tr>\n",
              "    <tr>\n",
              "      <th>49.4</th>\n",
              "      <td>-0.761408</td>\n",
              "    </tr>\n",
              "    <tr>\n",
              "      <th>49.5</th>\n",
              "      <td>-0.692885</td>\n",
              "    </tr>\n",
              "    <tr>\n",
              "      <th>49.6</th>\n",
              "      <td>-0.617439</td>\n",
              "    </tr>\n",
              "    <tr>\n",
              "      <th>49.7</th>\n",
              "      <td>-0.535823</td>\n",
              "    </tr>\n",
              "    <tr>\n",
              "      <th>49.8</th>\n",
              "      <td>-0.448854</td>\n",
              "    </tr>\n",
              "    <tr>\n",
              "      <th>49.9</th>\n",
              "      <td>-0.357400</td>\n",
              "    </tr>\n",
              "    <tr>\n",
              "      <th>50.0</th>\n",
              "      <td>-0.262375</td>\n",
              "    </tr>\n",
              "  </tbody>\n",
              "</table>\n",
              "</div>"
            ],
            "text/plain": [
              "          Sine\n",
              "45.1  0.899097\n",
              "45.2  0.938307\n",
              "45.3  0.968142\n",
              "45.4  0.988304\n",
              "45.5  0.998591\n",
              "45.6  0.998900\n",
              "45.7  0.989229\n",
              "45.8  0.969673\n",
              "45.9  0.940429\n",
              "46.0  0.901788\n",
              "46.1  0.854137\n",
              "46.2  0.797952\n",
              "46.3  0.733794\n",
              "46.4  0.662304\n",
              "46.5  0.584197\n",
              "46.6  0.500252\n",
              "46.7  0.411309\n",
              "46.8  0.318257\n",
              "46.9  0.222024\n",
              "47.0  0.123573\n",
              "47.1  0.023888\n",
              "47.2 -0.076037\n",
              "47.3 -0.175201\n",
              "47.4 -0.272615\n",
              "47.5 -0.367305\n",
              "47.6 -0.458325\n",
              "47.7 -0.544766\n",
              "47.8 -0.625764\n",
              "47.9 -0.700509\n",
              "48.0 -0.768255\n",
              "48.1 -0.828324\n",
              "48.2 -0.880118\n",
              "48.3 -0.923117\n",
              "48.4 -0.956893\n",
              "48.5 -0.981108\n",
              "48.6 -0.995521\n",
              "48.7 -0.999986\n",
              "48.8 -0.994460\n",
              "48.9 -0.978997\n",
              "49.0 -0.953753\n",
              "49.1 -0.918979\n",
              "49.2 -0.875023\n",
              "49.3 -0.822324\n",
              "49.4 -0.761408\n",
              "49.5 -0.692885\n",
              "49.6 -0.617439\n",
              "49.7 -0.535823\n",
              "49.8 -0.448854\n",
              "49.9 -0.357400\n",
              "50.0 -0.262375"
            ]
          },
          "metadata": {
            "tags": []
          },
          "execution_count": 43
        }
      ]
    },
    {
      "cell_type": "code",
      "metadata": {
        "id": "OTSW3YgUoO0x",
        "colab_type": "code",
        "colab": {}
      },
      "source": [
        "from sklearn.preprocessing import MinMaxScaler"
      ],
      "execution_count": 0,
      "outputs": []
    },
    {
      "cell_type": "code",
      "metadata": {
        "id": "ayQmY6r9oRXB",
        "colab_type": "code",
        "colab": {}
      },
      "source": [
        "scaler = MinMaxScaler()"
      ],
      "execution_count": 0,
      "outputs": []
    },
    {
      "cell_type": "code",
      "metadata": {
        "id": "NsnC-8TYoS3R",
        "colab_type": "code",
        "colab": {
          "base_uri": "https://localhost:8080/",
          "height": 34
        },
        "outputId": "2cd3d957-edf4-42ff-9ce7-49416b6639a6"
      },
      "source": [
        "scaler.fit(train)"
      ],
      "execution_count": 46,
      "outputs": [
        {
          "output_type": "execute_result",
          "data": {
            "text/plain": [
              "MinMaxScaler(copy=True, feature_range=(0, 1))"
            ]
          },
          "metadata": {
            "tags": []
          },
          "execution_count": 46
        }
      ]
    },
    {
      "cell_type": "code",
      "metadata": {
        "id": "nATd9GuQoUL5",
        "colab_type": "code",
        "colab": {}
      },
      "source": [
        "scaled_train = scaler.transform(train)\n",
        "scaled_test = scaler.transform(test)"
      ],
      "execution_count": 0,
      "outputs": []
    },
    {
      "cell_type": "code",
      "metadata": {
        "id": "PLNRf_M7oZ7R",
        "colab_type": "code",
        "colab": {}
      },
      "source": [
        "from tensorflow.keras.preprocessing.sequence import TimeseriesGenerator"
      ],
      "execution_count": 0,
      "outputs": []
    },
    {
      "cell_type": "code",
      "metadata": {
        "id": "W7ZWyNKAobhZ",
        "colab_type": "code",
        "colab": {}
      },
      "source": [
        "# !pip install --upgrade tensorflow"
      ],
      "execution_count": 0,
      "outputs": []
    },
    {
      "cell_type": "code",
      "metadata": {
        "id": "orfvKczgo_Gj",
        "colab_type": "code",
        "colab": {}
      },
      "source": [
        "# help(TimeseriesGenerator)"
      ],
      "execution_count": 0,
      "outputs": []
    },
    {
      "cell_type": "code",
      "metadata": {
        "id": "FhUBcc35plM1",
        "colab_type": "code",
        "colab": {}
      },
      "source": [
        "length = 25\n",
        "batch_size = 1\n",
        "\n",
        "generator = TimeseriesGenerator(scaled_train,scaled_train,\n",
        "                                length=length,batch_size=batch_size)"
      ],
      "execution_count": 0,
      "outputs": []
    },
    {
      "cell_type": "code",
      "metadata": {
        "id": "t1N7PNhUqPcc",
        "colab_type": "code",
        "colab": {
          "base_uri": "https://localhost:8080/",
          "height": 34
        },
        "outputId": "9e068063-0eea-46b5-a445-fe410cf5061e"
      },
      "source": [
        "len(scaled_train)"
      ],
      "execution_count": 60,
      "outputs": [
        {
          "output_type": "execute_result",
          "data": {
            "text/plain": [
              "451"
            ]
          },
          "metadata": {
            "tags": []
          },
          "execution_count": 60
        }
      ]
    },
    {
      "cell_type": "code",
      "metadata": {
        "id": "kipD_UhCqRdv",
        "colab_type": "code",
        "colab": {
          "base_uri": "https://localhost:8080/",
          "height": 34
        },
        "outputId": "318b5cef-49e5-4e03-f81c-0281dd7dc288"
      },
      "source": [
        "len(generator)"
      ],
      "execution_count": 61,
      "outputs": [
        {
          "output_type": "execute_result",
          "data": {
            "text/plain": [
              "447"
            ]
          },
          "metadata": {
            "tags": []
          },
          "execution_count": 61
        }
      ]
    },
    {
      "cell_type": "code",
      "metadata": {
        "id": "yqYTCr4GqTNz",
        "colab_type": "code",
        "colab": {}
      },
      "source": [
        "X,y = generator[0]"
      ],
      "execution_count": 0,
      "outputs": []
    },
    {
      "cell_type": "code",
      "metadata": {
        "id": "0_xeZqhkqcM3",
        "colab_type": "code",
        "colab": {
          "base_uri": "https://localhost:8080/",
          "height": 85
        },
        "outputId": "6dc5146b-ca20-4ebc-e0ea-f6c3b67d9d8a"
      },
      "source": [
        "X"
      ],
      "execution_count": 63,
      "outputs": [
        {
          "output_type": "execute_result",
          "data": {
            "text/plain": [
              "array([[[0.49999912],\n",
              "        [0.54991622],\n",
              "        [0.59933458],\n",
              "        [0.64776041]]])"
            ]
          },
          "metadata": {
            "tags": []
          },
          "execution_count": 63
        }
      ]
    },
    {
      "cell_type": "code",
      "metadata": {
        "id": "o7vPFZPXqdj_",
        "colab_type": "code",
        "colab": {
          "base_uri": "https://localhost:8080/",
          "height": 34
        },
        "outputId": "3729a024-ac62-468c-c5d0-3577a50b88d5"
      },
      "source": [
        "y"
      ],
      "execution_count": 64,
      "outputs": [
        {
          "output_type": "execute_result",
          "data": {
            "text/plain": [
              "array([[0.69470985]])"
            ]
          },
          "metadata": {
            "tags": []
          },
          "execution_count": 64
        }
      ]
    },
    {
      "cell_type": "code",
      "metadata": {
        "id": "iUXKLshfqfVL",
        "colab_type": "code",
        "colab": {
          "base_uri": "https://localhost:8080/",
          "height": 1000
        },
        "outputId": "3fa17ad9-ad99-4eaf-ffab-99456c46830f"
      },
      "source": [
        "scaled_train"
      ],
      "execution_count": 65,
      "outputs": [
        {
          "output_type": "execute_result",
          "data": {
            "text/plain": [
              "array([[4.99999116e-01],\n",
              "       [5.49916225e-01],\n",
              "       [5.99334579e-01],\n",
              "       [6.47760405e-01],\n",
              "       [6.94709850e-01],\n",
              "       [7.39713809e-01],\n",
              "       [7.82322618e-01],\n",
              "       [8.22110545e-01],\n",
              "       [8.58680040e-01],\n",
              "       [8.91665714e-01],\n",
              "       [9.20737985e-01],\n",
              "       [9.45606372e-01],\n",
              "       [9.66022399e-01],\n",
              "       [9.81782075e-01],\n",
              "       [9.92727935e-01],\n",
              "       [9.98750612e-01],\n",
              "       [9.99789928e-01],\n",
              "       [9.95835500e-01],\n",
              "       [9.86926839e-01],\n",
              "       [9.73152957e-01],\n",
              "       [9.54651478e-01],\n",
              "       [9.31607263e-01],\n",
              "       [9.04250562e-01],\n",
              "       [8.72854714e-01],\n",
              "       [8.37733417e-01],\n",
              "       [7.99237589e-01],\n",
              "       [7.57751870e-01],\n",
              "       [7.13690771e-01],\n",
              "       [6.67494535e-01],\n",
              "       [6.19624741e-01],\n",
              "       [5.70559686e-01],\n",
              "       [5.20789614e-01],\n",
              "       [4.70811810e-01],\n",
              "       [4.21125636e-01],\n",
              "       [3.72227539e-01],\n",
              "       [3.24606094e-01],\n",
              "       [2.78737119e-01],\n",
              "       [2.35078919e-01],\n",
              "       [1.94067715e-01],\n",
              "       [1.56113277e-01],\n",
              "       [1.21594831e-01],\n",
              "       [9.08572769e-02],\n",
              "       [6.42077324e-02],\n",
              "       [4.19124713e-02],\n",
              "       [2.41942605e-02],\n",
              "       [1.12301346e-02],\n",
              "       [3.14962674e-03],\n",
              "       [3.34747619e-05],\n",
              "       [1.91281421e-03],\n",
              "       [8.76886734e-03],\n",
              "       [2.05331307e-02],\n",
              "       [3.70880598e-02],\n",
              "       [5.82682430e-02],\n",
              "       [8.38620552e-02],\n",
              "       [1.13613771e-01],\n",
              "       [1.47226122e-01],\n",
              "       [1.84363264e-01],\n",
              "       [2.24654135e-01],\n",
              "       [2.67696162e-01],\n",
              "       [3.13059283e-01],\n",
              "       [3.60290246e-01],\n",
              "       [4.08917133e-01],\n",
              "       [4.58454081e-01],\n",
              "       [5.08406134e-01],\n",
              "       [5.58274186e-01],\n",
              "       [6.07559973e-01],\n",
              "       [6.55771048e-01],\n",
              "       [7.02425701e-01],\n",
              "       [7.47057774e-01],\n",
              "       [7.89221319e-01],\n",
              "       [8.28495052e-01],\n",
              "       [8.64486561e-01],\n",
              "       [8.96836233e-01],\n",
              "       [9.25220839e-01],\n",
              "       [9.49356770e-01],\n",
              "       [9.69002868e-01],\n",
              "       [9.83962836e-01],\n",
              "       [9.94087198e-01],\n",
              "       [9.99274795e-01],\n",
              "       [9.99473795e-01],\n",
              "       [9.94682209e-01],\n",
              "       [9.84947913e-01],\n",
              "       [9.70368169e-01],\n",
              "       [9.51088653e-01],\n",
              "       [9.27301999e-01],\n",
              "       [8.99245876e-01],\n",
              "       [8.67200612e-01],\n",
              "       [8.31486391e-01],\n",
              "       [7.92460059e-01],\n",
              "       [7.50511555e-01],\n",
              "       [7.06060012e-01],\n",
              "       [6.59549578e-01],\n",
              "       [6.11444967e-01],\n",
              "       [5.62226827e-01],\n",
              "       [5.12386928e-01],\n",
              "       [4.62423254e-01],\n",
              "       [4.12835026e-01],\n",
              "       [3.64117712e-01],\n",
              "       [3.16758081e-01],\n",
              "       [2.71229333e-01],\n",
              "       [2.27986377e-01],\n",
              "       [1.87461283e-01],\n",
              "       [1.50058964e-01],\n",
              "       [1.16153131e-01],\n",
              "       [8.60825596e-02],\n",
              "       [6.01477060e-02],\n",
              "       [3.86077023e-02],\n",
              "       [2.16777691e-02],\n",
              "       [9.52706470e-03],\n",
              "       [2.27699490e-03],\n",
              "       [0.00000000e+00],\n",
              "       [2.71883099e-03],\n",
              "       [1.04063222e-02],\n",
              "       [2.29856628e-02],\n",
              "       [4.03311641e-02],\n",
              "       [6.22695157e-02],\n",
              "       [8.85815167e-02],\n",
              "       [1.19004266e-01],\n",
              "       [1.53233791e-01],\n",
              "       [1.90928079e-01],\n",
              "       [2.31710504e-01],\n",
              "       [2.75173579e-01],\n",
              "       [3.20883037e-01],\n",
              "       [3.68382164e-01],\n",
              "       [4.17196364e-01],\n",
              "       [4.66837901e-01],\n",
              "       [5.16810774e-01],\n",
              "       [5.66615671e-01],\n",
              "       [6.15754957e-01],\n",
              "       [6.63737650e-01],\n",
              "       [7.10084320e-01],\n",
              "       [7.54331889e-01],\n",
              "       [7.96038249e-01],\n",
              "       [8.34786684e-01],\n",
              "       [8.70190032e-01],\n",
              "       [9.01894555e-01],\n",
              "       [9.29583471e-01],\n",
              "       [9.52980122e-01],\n",
              "       [9.71850737e-01],\n",
              "       [9.86006767e-01],\n",
              "       [9.95306769e-01],\n",
              "       [9.99657820e-01],\n",
              "       [9.99016447e-01],\n",
              "       [9.93389058e-01],\n",
              "       [9.82831879e-01],\n",
              "       [9.67450395e-01],\n",
              "       [9.47398292e-01],\n",
              "       [9.22875925e-01],\n",
              "       [8.94128313e-01],\n",
              "       [8.61442691e-01],\n",
              "       [8.25145645e-01],\n",
              "       [7.85599843e-01],\n",
              "       [7.43200412e-01],\n",
              "       [6.98370994e-01],\n",
              "       [6.51559511e-01],\n",
              "       [6.03233685e-01],\n",
              "       [5.53876374e-01],\n",
              "       [5.03980740e-01],\n",
              "       [4.54045322e-01],\n",
              "       [4.04569059e-01],\n",
              "       [3.56046302e-01],\n",
              "       [3.08961874e-01],\n",
              "       [2.63786227e-01],\n",
              "       [2.20970741e-01],\n",
              "       [1.80943214e-01],\n",
              "       [1.44103589e-01],\n",
              "       [1.10819953e-01],\n",
              "       [8.14248677e-02],\n",
              "       [5.62120376e-02],\n",
              "       [3.54333813e-02],\n",
              "       [1.92965122e-02],\n",
              "       [7.96266464e-03],\n",
              "       [1.54508265e-03],\n",
              "       [1.07888605e-04],\n",
              "       [3.66544246e-03],\n",
              "       [1.21821983e-02],\n",
              "       [2.55730595e-02],\n",
              "       [4.37042291e-02],\n",
              "       [6.63945464e-02],\n",
              "       [9.34172971e-02],\n",
              "       [1.24502479e-01],\n",
              "       [1.59339499e-01],\n",
              "       [1.97580278e-01],\n",
              "       [2.38842725e-01],\n",
              "       [2.82714561e-01],\n",
              "       [3.28757432e-01],\n",
              "       [3.76511294e-01],\n",
              "       [4.25499005e-01],\n",
              "       [4.75231097e-01],\n",
              "       [5.25210662e-01],\n",
              "       [5.74938322e-01],\n",
              "       [6.23917214e-01],\n",
              "       [6.71657958e-01],\n",
              "       [7.17683543e-01],\n",
              "       [7.61534097e-01],\n",
              "       [8.02771481e-01],\n",
              "       [8.40983662e-01],\n",
              "       [8.75788839e-01],\n",
              "       [9.06839250e-01],\n",
              "       [9.33824648e-01],\n",
              "       [9.56475405e-01],\n",
              "       [9.74565201e-01],\n",
              "       [9.87913290e-01],\n",
              "       [9.96386302e-01],\n",
              "       [9.99899578e-01],\n",
              "       [9.98418013e-01],\n",
              "       [9.91956411e-01],\n",
              "       [9.80579335e-01],\n",
              "       [9.64400460e-01],\n",
              "       [9.43581440e-01],\n",
              "       [9.18330292e-01],\n",
              "       [8.88899318e-01],\n",
              "       [8.55582581e-01],\n",
              "       [8.18712972e-01],\n",
              "       [7.78658879e-01],\n",
              "       [7.35820510e-01],\n",
              "       [6.90625892e-01],\n",
              "       [6.43526593e-01],\n",
              "       [5.94993216e-01],\n",
              "       [5.45510689e-01],\n",
              "       [4.95573426e-01],\n",
              "       [4.45680382e-01],\n",
              "       [3.96330074e-01],\n",
              "       [3.48015592e-01],\n",
              "       [3.01219679e-01],\n",
              "       [2.56409905e-01],\n",
              "       [2.14033993e-01],\n",
              "       [1.74515351e-01],\n",
              "       [1.38248835e-01],\n",
              "       [1.05596808e-01],\n",
              "       [7.68855182e-02],\n",
              "       [5.24018399e-02],\n",
              "       [3.23904056e-02],\n",
              "       [1.70511630e-02],\n",
              "       [6.53737668e-03],\n",
              "       [9.54096943e-04],\n",
              "       [3.57110073e-04],\n",
              "       [4.75238097e-03],\n",
              "       [1.40959935e-02],\n",
              "       [2.82945895e-02],\n",
              "       [4.72063011e-02],\n",
              "       [7.06421689e-02],\n",
              "       [9.83680294e-02],\n",
              "       [1.30106855e-01],\n",
              "       [1.65541522e-01],\n",
              "       [2.04317978e-01],\n",
              "       [2.46048783e-01],\n",
              "       [2.90316975e-01],\n",
              "       [3.36680242e-01],\n",
              "       [3.84675337e-01],\n",
              "       [4.33822710e-01],\n",
              "       [4.83631295e-01],\n",
              "       [5.33603422e-01],\n",
              "       [5.83239786e-01],\n",
              "       [6.32044436e-01],\n",
              "       [6.79529734e-01],\n",
              "       [7.25221221e-01],\n",
              "       [7.68662363e-01],\n",
              "       [8.09419110e-01],\n",
              "       [8.47084236e-01],\n",
              "       [8.81281401e-01],\n",
              "       [9.11668920e-01],\n",
              "       [9.37943170e-01],\n",
              "       [9.59841629e-01],\n",
              "       [9.77145492e-01],\n",
              "       [9.89681867e-01],\n",
              "       [9.97325494e-01],\n",
              "       [1.00000000e+00],\n",
              "       [9.97678662e-01],\n",
              "       [9.90384675e-01],\n",
              "       [9.78190918e-01],\n",
              "       [9.61219226e-01],\n",
              "       [9.39639175e-01],\n",
              "       [9.13666386e-01],\n",
              "       [8.83560370e-01],\n",
              "       [8.49621938e-01],\n",
              "       [8.12190189e-01],\n",
              "       [7.71639131e-01],\n",
              "       [7.28373935e-01],\n",
              "       [6.82826893e-01],\n",
              "       [6.35453097e-01],\n",
              "       [5.86725890e-01],\n",
              "       [5.37132137e-01],\n",
              "       [4.87167363e-01],\n",
              "       [4.37330800e-01],\n",
              "       [3.88120398e-01],\n",
              "       [3.40027851e-01],\n",
              "       [2.93533684e-01],\n",
              "       [2.49102452e-01],\n",
              "       [2.07178096e-01],\n",
              "       [1.68179511e-01],\n",
              "       [1.32496358e-01],\n",
              "       [1.00485170e-01],\n",
              "       [7.24657944e-02],\n",
              "       [4.87181901e-02],\n",
              "       [2.94796357e-02],\n",
              "       [1.49423563e-02],\n",
              "       [5.25160379e-03],\n",
              "       [5.04204848e-04],\n",
              "       [7.47593943e-04],\n",
              "       [5.97933921e-03],\n",
              "       [1.61471668e-02],\n",
              "       [3.11494831e-02],\n",
              "       [5.08363900e-02],\n",
              "       [7.50111823e-02],\n",
              "       [1.03432314e-01],\n",
              "       [1.35815809e-01],\n",
              "       [1.71838104e-01],\n",
              "       [2.11139276e-01],\n",
              "       [2.53326639e-01],\n",
              "       [2.97978672e-01],\n",
              "       [3.44649227e-01],\n",
              "       [3.92871986e-01],\n",
              "       [4.42165124e-01],\n",
              "       [4.92036121e-01],\n",
              "       [5.41986681e-01],\n",
              "       [5.91517715e-01],\n",
              "       [6.40134325e-01],\n",
              "       [6.87350751e-01],\n",
              "       [7.32695222e-01],\n",
              "       [7.75714669e-01],\n",
              "       [8.15979258e-01],\n",
              "       [8.53086678e-01],\n",
              "       [8.86666164e-01],\n",
              "       [9.16382200e-01],\n",
              "       [9.41937874e-01],\n",
              "       [9.63077843e-01],\n",
              "       [9.79590881e-01],\n",
              "       [9.91311998e-01],\n",
              "       [9.98124078e-01],\n",
              "       [9.99959058e-01],\n",
              "       [9.96798604e-01],\n",
              "       [9.88674294e-01],\n",
              "       [9.75667303e-01],\n",
              "       [9.57907592e-01],\n",
              "       [9.35572612e-01],\n",
              "       [9.08885525e-01],\n",
              "       [8.78112980e-01],\n",
              "       [8.43562446e-01],\n",
              "       [8.05579141e-01],\n",
              "       [7.64542582e-01],\n",
              "       [7.20862792e-01],\n",
              "       [6.74976205e-01],\n",
              "       [6.27341304e-01],\n",
              "       [5.78434043e-01],\n",
              "       [5.28743086e-01],\n",
              "       [4.78764928e-01],\n",
              "       [4.28998936e-01],\n",
              "       [3.79942353e-01],\n",
              "       [3.32085339e-01],\n",
              "       [2.85906063e-01],\n",
              "       [2.41865934e-01],\n",
              "       [2.00404987e-01],\n",
              "       [1.61937485e-01],\n",
              "       [1.26847783e-01],\n",
              "       [9.54864865e-02],\n",
              "       [6.81669460e-02],\n",
              "       [4.51621298e-02],\n",
              "       [2.67018944e-02],\n",
              "       [1.29706884e-02],\n",
              "       [4.10570950e-03],\n",
              "       [1.95533568e-04],\n",
              "       [1.27922981e-03],\n",
              "       [7.34597031e-03],\n",
              "       [1.83351382e-02],\n",
              "       [3.41369333e-02],\n",
              "       [5.45934694e-02],\n",
              "       [7.95003514e-02],\n",
              "       [1.08608718e-01],\n",
              "       [1.41627728e-01],\n",
              "       [1.78227467e-01],\n",
              "       [2.18042242e-01],\n",
              "       [2.60674236e-01],\n",
              "       [3.05697486e-01],\n",
              "       [3.52662133e-01],\n",
              "       [4.01098922e-01],\n",
              "       [4.50523890e-01],\n",
              "       [5.00443198e-01],\n",
              "       [5.50358069e-01],\n",
              "       [5.99769769e-01],\n",
              "       [6.48184595e-01],\n",
              "       [6.95118799e-01],\n",
              "       [7.40103433e-01],\n",
              "       [7.82689024e-01],\n",
              "       [8.22450070e-01],\n",
              "       [8.58989293e-01],\n",
              "       [8.91941605e-01],\n",
              "       [9.20977757e-01],\n",
              "       [9.45807630e-01],\n",
              "       [9.66183132e-01],\n",
              "       [9.81900676e-01],\n",
              "       [9.92803220e-01],\n",
              "       [9.98781828e-01],\n",
              "       [9.99776764e-01],\n",
              "       [9.95778087e-01],\n",
              "       [9.86825751e-01],\n",
              "       [9.73009203e-01],\n",
              "       [9.54466495e-01],\n",
              "       [9.31382900e-01],\n",
              "       [9.03989060e-01],\n",
              "       [8.72558686e-01],\n",
              "       [8.37405820e-01],\n",
              "       [7.98881698e-01],\n",
              "       [7.57371240e-01],\n",
              "       [7.13289205e-01],\n",
              "       [6.67076045e-01],\n",
              "       [6.19193508e-01],\n",
              "       [5.70120021e-01],\n",
              "       [5.20345908e-01],\n",
              "       [4.70368497e-01],\n",
              "       [4.20687145e-01],\n",
              "       [3.71798252e-01],\n",
              "       [3.24190300e-01],\n",
              "       [2.78338972e-01],\n",
              "       [2.34702398e-01],\n",
              "       [1.93716581e-01],\n",
              "       [1.55791039e-01],\n",
              "       [1.21304709e-01],\n",
              "       [9.06021693e-02],\n",
              "       [6.39901882e-02],\n",
              "       [4.17346643e-02],\n",
              "       [2.40579672e-02],\n",
              "       [1.11367167e-02],\n",
              "       [3.10001778e-03],\n",
              "       [2.81703720e-05],\n",
              "       [1.95186738e-03],\n",
              "       [8.85188786e-03],\n",
              "       [2.06592891e-02],\n",
              "       [3.72560954e-02],\n",
              "       [5.84764771e-02],\n",
              "       [8.41084070e-02],\n",
              "       [1.13895779e-01],\n",
              "       [1.47540969e-01],\n",
              "       [1.84707803e-01],\n",
              "       [2.25024924e-01],\n",
              "       [2.68089497e-01],\n",
              "       [3.13471233e-01],\n",
              "       [3.60716695e-01],\n",
              "       [4.09353821e-01],\n",
              "       [4.58896644e-01],\n",
              "       [5.08850150e-01],\n",
              "       [5.58715219e-01],\n",
              "       [6.07993616e-01],\n",
              "       [6.56192968e-01],\n",
              "       [7.02831682e-01],\n",
              "       [7.47443761e-01],\n",
              "       [7.89583454e-01],\n",
              "       [8.28829716e-01],\n",
              "       [8.64790412e-01],\n",
              "       [8.97106234e-01],\n",
              "       [9.25454293e-01]])"
            ]
          },
          "metadata": {
            "tags": []
          },
          "execution_count": 65
        }
      ]
    },
    {
      "cell_type": "code",
      "metadata": {
        "id": "dz8yaBNEqiB3",
        "colab_type": "code",
        "colab": {
          "base_uri": "https://localhost:8080/",
          "height": 282
        },
        "outputId": "11785715-1b1c-4228-fd68-7010a992ad04"
      },
      "source": [
        "df.plot()"
      ],
      "execution_count": 66,
      "outputs": [
        {
          "output_type": "execute_result",
          "data": {
            "text/plain": [
              "<matplotlib.axes._subplots.AxesSubplot at 0x7f9f1a15fe48>"
            ]
          },
          "metadata": {
            "tags": []
          },
          "execution_count": 66
        },
        {
          "output_type": "display_data",
          "data": {
            "image/png": "[encoded data removed]",
            "text/plain": [
              "<Figure size 432x288 with 1 Axes>"
            ]
          },
          "metadata": {
            "tags": []
          }
        }
      ]
    },
    {
      "cell_type": "code",
      "metadata": {
        "id": "06yWk90frFgo",
        "colab_type": "code",
        "colab": {}
      },
      "source": [
        "length = 50\n",
        "batch_size = 1\n",
        "\n",
        "generator = TimeseriesGenerator(scaled_train,scaled_train,\n",
        "                                length=length,batch_size=batch_size)"
      ],
      "execution_count": 0,
      "outputs": []
    },
    {
      "cell_type": "code",
      "metadata": {
        "id": "TauK0eprrxH2",
        "colab_type": "code",
        "colab": {}
      },
      "source": [
        "from tensorflow.keras.models import Sequential"
      ],
      "execution_count": 0,
      "outputs": []
    },
    {
      "cell_type": "code",
      "metadata": {
        "id": "lxDHj-uPr01m",
        "colab_type": "code",
        "colab": {}
      },
      "source": [
        "from tensorflow.keras.layers import Dense,SimpleRNN,LSTM"
      ],
      "execution_count": 0,
      "outputs": []
    },
    {
      "cell_type": "code",
      "metadata": {
        "id": "ZDA59bOor6Hn",
        "colab_type": "code",
        "colab": {}
      },
      "source": [
        "n_features = 1"
      ],
      "execution_count": 0,
      "outputs": []
    },
    {
      "cell_type": "code",
      "metadata": {
        "id": "U4daqH_-r7xm",
        "colab_type": "code",
        "colab": {}
      },
      "source": [
        "model = Sequential()\n",
        "\n",
        "model.add(SimpleRNN(50,input_shape=(length,n_features)))\n",
        "\n",
        "model.add(Dense(1))\n",
        "\n",
        "model.compile(optimizer='adam',loss='mse')"
      ],
      "execution_count": 0,
      "outputs": []
    },
    {
      "cell_type": "code",
      "metadata": {
        "id": "sP6Z_nIRr9Zd",
        "colab_type": "code",
        "colab": {
          "base_uri": "https://localhost:8080/",
          "height": 221
        },
        "outputId": "5c81936a-334d-466d-e9e1-6bc0651eefa9"
      },
      "source": [
        "model.summary()"
      ],
      "execution_count": 75,
      "outputs": [
        {
          "output_type": "stream",
          "text": [
            "Model: \"sequential_2\"\n",
            "_________________________________________________________________\n",
            "Layer (type)                 Output Shape              Param #   \n",
            "=================================================================\n",
            "simple_rnn (SimpleRNN)       (None, 50)                2600      \n",
            "_________________________________________________________________\n",
            "dense (Dense)                (None, 1)                 51        \n",
            "=================================================================\n",
            "Total params: 2,651\n",
            "Trainable params: 2,651\n",
            "Non-trainable params: 0\n",
            "_________________________________________________________________\n"
          ],
          "name": "stdout"
        }
      ]
    },
    {
      "cell_type": "code",
      "metadata": {
        "id": "ic3iw9J1sViK",
        "colab_type": "code",
        "colab": {
          "base_uri": "https://localhost:8080/",
          "height": 340
        },
        "outputId": "caded154-3dc4-49ec-c795-beee1d6415e4"
      },
      "source": [
        "model.fit_generator(generator,epochs=5)"
      ],
      "execution_count": 76,
      "outputs": [
        {
          "output_type": "stream",
          "text": [
            "WARNING:tensorflow:From <ipython-input-76-063492f5aede>:1: Model.fit_generator (from tensorflow.python.keras.engine.training) is deprecated and will be removed in a future version.\n",
            "Instructions for updating:\n",
            "Please use Model.fit, which supports generators.\n",
            "WARNING:tensorflow:sample_weight modes were coerced from\n",
            "  ...\n",
            "    to  \n",
            "  ['...']\n",
            "Train for 401 steps\n",
            "Epoch 1/5\n",
            "401/401 [==============================] - 5s 12ms/step - loss: 0.0114\n",
            "Epoch 2/5\n",
            "401/401 [==============================] - 4s 11ms/step - loss: 7.5707e-05\n",
            "Epoch 3/5\n",
            "401/401 [==============================] - 4s 11ms/step - loss: 5.5018e-04\n",
            "Epoch 4/5\n",
            "401/401 [==============================] - 4s 11ms/step - loss: 8.3629e-05\n",
            "Epoch 5/5\n",
            "401/401 [==============================] - 4s 10ms/step - loss: 8.5587e-06\n"
          ],
          "name": "stdout"
        },
        {
          "output_type": "execute_result",
          "data": {
            "text/plain": [
              "<tensorflow.python.keras.callbacks.History at 0x7f9f139116d8>"
            ]
          },
          "metadata": {
            "tags": []
          },
          "execution_count": 76
        }
      ]
    },
    {
      "cell_type": "code",
      "metadata": {
        "id": "h-ILsxqFsamq",
        "colab_type": "code",
        "colab": {}
      },
      "source": [
        "losses = pd.DataFrame(model.history.history)"
      ],
      "execution_count": 0,
      "outputs": []
    },
    {
      "cell_type": "code",
      "metadata": {
        "id": "FQy0MDdRskUm",
        "colab_type": "code",
        "colab": {
          "base_uri": "https://localhost:8080/",
          "height": 282
        },
        "outputId": "9165747e-bae2-4b32-a5bd-281ad791023d"
      },
      "source": [
        "losses.plot()"
      ],
      "execution_count": 78,
      "outputs": [
        {
          "output_type": "execute_result",
          "data": {
            "text/plain": [
              "<matplotlib.axes._subplots.AxesSubplot at 0x7f9f0fc1c5f8>"
            ]
          },
          "metadata": {
            "tags": []
          },
          "execution_count": 78
        },
        {
          "output_type": "display_data",
          "data": {
            "image/png": "[encoded data removed]",
            "text/plain": [
              "<Figure size 432x288 with 1 Axes>"
            ]
          },
          "metadata": {
            "tags": []
          }
        }
      ]
    },
    {
      "cell_type": "code",
      "metadata": {
        "id": "4L9_qjCpsof3",
        "colab_type": "code",
        "colab": {}
      },
      "source": [
        "first_eval_batch = scaled_train[-length:]"
      ],
      "execution_count": 0,
      "outputs": []
    },
    {
      "cell_type": "code",
      "metadata": {
        "id": "Ywg7K-Qss0T_",
        "colab_type": "code",
        "colab": {}
      },
      "source": [
        "first_eval_batch = first_eval_batch.reshape((1,length,n_features))"
      ],
      "execution_count": 0,
      "outputs": []
    },
    {
      "cell_type": "code",
      "metadata": {
        "id": "kqCXq505s1zV",
        "colab_type": "code",
        "colab": {
          "base_uri": "https://localhost:8080/",
          "height": 34
        },
        "outputId": "22984251-fcf2-4221-fa43-2fab7dd13d84"
      },
      "source": [
        "model.predict(first_eval_batch)"
      ],
      "execution_count": 82,
      "outputs": [
        {
          "output_type": "execute_result",
          "data": {
            "text/plain": [
              "array([[0.9486708]], dtype=float32)"
            ]
          },
          "metadata": {
            "tags": []
          },
          "execution_count": 82
        }
      ]
    },
    {
      "cell_type": "code",
      "metadata": {
        "id": "hEl9AylntDNd",
        "colab_type": "code",
        "colab": {
          "base_uri": "https://localhost:8080/",
          "height": 34
        },
        "outputId": "ae2d1359-bc52-45e1-ae31-45a3fd34f09b"
      },
      "source": [
        "scaled_test[0]"
      ],
      "execution_count": 83,
      "outputs": [
        {
          "output_type": "execute_result",
          "data": {
            "text/plain": [
              "array([0.94955134])"
            ]
          },
          "metadata": {
            "tags": []
          },
          "execution_count": 83
        }
      ]
    },
    {
      "cell_type": "code",
      "metadata": {
        "id": "sr0KLSs-tHBn",
        "colab_type": "code",
        "colab": {}
      },
      "source": [
        "test_predictions = []\n",
        "\n",
        "first_eval_batch = scaled_train[-length:]\n",
        "current_batch = first_eval_batch.reshape((1,length,n_features))"
      ],
      "execution_count": 0,
      "outputs": []
    },
    {
      "cell_type": "code",
      "metadata": {
        "id": "poqfNodKtcdA",
        "colab_type": "code",
        "colab": {}
      },
      "source": [
        "# current_batch"
      ],
      "execution_count": 0,
      "outputs": []
    },
    {
      "cell_type": "code",
      "metadata": {
        "id": "vpodFxM7vBse",
        "colab_type": "code",
        "colab": {}
      },
      "source": [
        "# first_eval_batch"
      ],
      "execution_count": 0,
      "outputs": []
    },
    {
      "cell_type": "code",
      "metadata": {
        "id": "tPJmoAfWtepN",
        "colab_type": "code",
        "colab": {
          "base_uri": "https://localhost:8080/",
          "height": 867
        },
        "outputId": "6275da78-721d-4565-cbff-5e7939b3ad8e"
      },
      "source": [
        "# predicted_value = [[[99]]]\n",
        "# np.append(current_batch[:,1:,:],[[[99]]],axis=1)"
      ],
      "execution_count": 87,
      "outputs": [
        {
          "output_type": "execute_result",
          "data": {
            "text/plain": [
              "array([[[7.98881698e-01],\n",
              "        [7.57371240e-01],\n",
              "        [7.13289205e-01],\n",
              "        [6.67076045e-01],\n",
              "        [6.19193508e-01],\n",
              "        [5.70120021e-01],\n",
              "        [5.20345908e-01],\n",
              "        [4.70368497e-01],\n",
              "        [4.20687145e-01],\n",
              "        [3.71798252e-01],\n",
              "        [3.24190300e-01],\n",
              "        [2.78338972e-01],\n",
              "        [2.34702398e-01],\n",
              "        [1.93716581e-01],\n",
              "        [1.55791039e-01],\n",
              "        [1.21304709e-01],\n",
              "        [9.06021693e-02],\n",
              "        [6.39901882e-02],\n",
              "        [4.17346643e-02],\n",
              "        [2.40579672e-02],\n",
              "        [1.11367167e-02],\n",
              "        [3.10001778e-03],\n",
              "        [2.81703720e-05],\n",
              "        [1.95186738e-03],\n",
              "        [8.85188786e-03],\n",
              "        [2.06592891e-02],\n",
              "        [3.72560954e-02],\n",
              "        [5.84764771e-02],\n",
              "        [8.41084070e-02],\n",
              "        [1.13895779e-01],\n",
              "        [1.47540969e-01],\n",
              "        [1.84707803e-01],\n",
              "        [2.25024924e-01],\n",
              "        [2.68089497e-01],\n",
              "        [3.13471233e-01],\n",
              "        [3.60716695e-01],\n",
              "        [4.09353821e-01],\n",
              "        [4.58896644e-01],\n",
              "        [5.08850150e-01],\n",
              "        [5.58715219e-01],\n",
              "        [6.07993616e-01],\n",
              "        [6.56192968e-01],\n",
              "        [7.02831682e-01],\n",
              "        [7.47443761e-01],\n",
              "        [7.89583454e-01],\n",
              "        [8.28829716e-01],\n",
              "        [8.64790412e-01],\n",
              "        [8.97106234e-01],\n",
              "        [9.25454293e-01],\n",
              "        [9.90000000e+01]]])"
            ]
          },
          "metadata": {
            "tags": []
          },
          "execution_count": 87
        }
      ]
    },
    {
      "cell_type": "code",
      "metadata": {
        "id": "4CHDnsyNuCjQ",
        "colab_type": "code",
        "colab": {}
      },
      "source": [
        "test_predictions = []\n",
        "\n",
        "first_eval_batch = scaled_train[-length:]\n",
        "current_batch = first_eval_batch.reshape((1, length, n_features))\n",
        "\n",
        "for i in range(len(test)):\n",
        "    \n",
        "    # get prediction 1 time stamp ahead ([0] is for grabbing just the number instead of [array])\n",
        "    current_pred = model.predict(current_batch)[0]\n",
        "    \n",
        "    # store prediction\n",
        "    test_predictions.append(current_pred) \n",
        "    \n",
        "    # update batch to now include prediction and drop first value\n",
        "    current_batch = np.append(current_batch[:,1:,:],[[current_pred]],axis=1)"
      ],
      "execution_count": 0,
      "outputs": []
    },
    {
      "cell_type": "code",
      "metadata": {
        "id": "UJqbN8-Lv6WY",
        "colab_type": "code",
        "colab": {}
      },
      "source": [
        "# test_predictions"
      ],
      "execution_count": 0,
      "outputs": []
    },
    {
      "cell_type": "code",
      "metadata": {
        "id": "k-3lB_RewL4L",
        "colab_type": "code",
        "colab": {}
      },
      "source": [
        "# scaled_test"
      ],
      "execution_count": 0,
      "outputs": []
    },
    {
      "cell_type": "code",
      "metadata": {
        "id": "_zuQm5M4wNb6",
        "colab_type": "code",
        "colab": {}
      },
      "source": [
        "true_predictions = scaler.inverse_transform(test_predictions)"
      ],
      "execution_count": 0,
      "outputs": []
    },
    {
      "cell_type": "code",
      "metadata": {
        "id": "2A4PzooGwS9L",
        "colab_type": "code",
        "colab": {
          "base_uri": "https://localhost:8080/",
          "height": 867
        },
        "outputId": "30802b73-4dbb-41e6-de0f-47235f77151a"
      },
      "source": [
        "true_predictions"
      ],
      "execution_count": 94,
      "outputs": [
        {
          "output_type": "execute_result",
          "data": {
            "text/plain": [
              "array([[ 0.89733618],\n",
              "       [ 0.93525325],\n",
              "       [ 0.96377694],\n",
              "       [ 0.98237106],\n",
              "       [ 0.99157144],\n",
              "       [ 0.99034156],\n",
              "       [ 0.97908174],\n",
              "       [ 0.9581782 ],\n",
              "       [ 0.927437  ],\n",
              "       [ 0.88729085],\n",
              "       [ 0.83806126],\n",
              "       [ 0.77982251],\n",
              "       [ 0.71373162],\n",
              "       [ 0.64023921],\n",
              "       [ 0.55989863],\n",
              "       [ 0.47439145],\n",
              "       [ 0.38405704],\n",
              "       [ 0.28959135],\n",
              "       [ 0.19224404],\n",
              "       [ 0.0927269 ],\n",
              "       [-0.00782044],\n",
              "       [-0.10849391],\n",
              "       [-0.2084827 ],\n",
              "       [-0.30684358],\n",
              "       [-0.40249831],\n",
              "       [-0.49464099],\n",
              "       [-0.58205351],\n",
              "       [-0.66384065],\n",
              "       [-0.73936646],\n",
              "       [-0.80722939],\n",
              "       [-0.86684606],\n",
              "       [-0.9177542 ],\n",
              "       [-0.95870801],\n",
              "       [-0.98930144],\n",
              "       [-1.00927358],\n",
              "       [-1.01838418],\n",
              "       [-1.01681211],\n",
              "       [-1.00448174],\n",
              "       [-0.98152721],\n",
              "       [-0.94850845],\n",
              "       [-0.90568457],\n",
              "       [-0.85386419],\n",
              "       [-0.79389241],\n",
              "       [-0.72589461],\n",
              "       [-0.65078456],\n",
              "       [-0.56961862],\n",
              "       [-0.4828005 ],\n",
              "       [-0.39135847],\n",
              "       [-0.29658475],\n",
              "       [-0.19922736]])"
            ]
          },
          "metadata": {
            "tags": []
          },
          "execution_count": 94
        }
      ]
    },
    {
      "cell_type": "code",
      "metadata": {
        "id": "pF9y04iVwT8L",
        "colab_type": "code",
        "colab": {
          "base_uri": "https://localhost:8080/",
          "height": 119
        },
        "outputId": "0590dd09-b224-4113-f5bc-6fde8ebc3b34"
      },
      "source": [
        "test['Predictions'] = true_predictions"
      ],
      "execution_count": 95,
      "outputs": [
        {
          "output_type": "stream",
          "text": [
            "/usr/local/lib/python3.6/dist-packages/ipykernel_launcher.py:1: SettingWithCopyWarning: \n",
            "A value is trying to be set on a copy of a slice from a DataFrame.\n",
            "Try using .loc[row_indexer,col_indexer] = value instead\n",
            "\n",
            "See the caveats in the documentation: http://pandas.pydata.org/pandas-docs/stable/user_guide/indexing.html#returning-a-view-versus-a-copy\n",
            "  \"\"\"Entry point for launching an IPython kernel.\n"
          ],
          "name": "stderr"
        }
      ]
    },
    {
      "cell_type": "code",
      "metadata": {
        "id": "zlVoBJbDwZOC",
        "colab_type": "code",
        "colab": {
          "base_uri": "https://localhost:8080/",
          "height": 1000
        },
        "outputId": "ed793cf9-ea28-48c8-807d-0ba876ca7ec6"
      },
      "source": [
        "test"
      ],
      "execution_count": 96,
      "outputs": [
        {
          "output_type": "execute_result",
          "data": {
            "text/html": [
              "<div>\n",
              "<style scoped>\n",
              "    .dataframe tbody tr th:only-of-type {\n",
              "        vertical-align: middle;\n",
              "    }\n",
              "\n",
              "    .dataframe tbody tr th {\n",
              "        vertical-align: top;\n",
              "    }\n",
              "\n",
              "    .dataframe thead th {\n",
              "        text-align: right;\n",
              "    }\n",
              "</style>\n",
              "<table border=\"1\" class=\"dataframe\">\n",
              "  <thead>\n",
              "    <tr style=\"text-align: right;\">\n",
              "      <th></th>\n",
              "      <th>Sine</th>\n",
              "      <th>Predictions</th>\n",
              "    </tr>\n",
              "  </thead>\n",
              "  <tbody>\n",
              "    <tr>\n",
              "      <th>45.1</th>\n",
              "      <td>0.899097</td>\n",
              "      <td>0.897336</td>\n",
              "    </tr>\n",
              "    <tr>\n",
              "      <th>45.2</th>\n",
              "      <td>0.938307</td>\n",
              "      <td>0.935253</td>\n",
              "    </tr>\n",
              "    <tr>\n",
              "      <th>45.3</th>\n",
              "      <td>0.968142</td>\n",
              "      <td>0.963777</td>\n",
              "    </tr>\n",
              "    <tr>\n",
              "      <th>45.4</th>\n",
              "      <td>0.988304</td>\n",
              "      <td>0.982371</td>\n",
              "    </tr>\n",
              "    <tr>\n",
              "      <th>45.5</th>\n",
              "      <td>0.998591</td>\n",
              "      <td>0.991571</td>\n",
              "    </tr>\n",
              "    <tr>\n",
              "      <th>45.6</th>\n",
              "      <td>0.998900</td>\n",
              "      <td>0.990342</td>\n",
              "    </tr>\n",
              "    <tr>\n",
              "      <th>45.7</th>\n",
              "      <td>0.989229</td>\n",
              "      <td>0.979082</td>\n",
              "    </tr>\n",
              "    <tr>\n",
              "      <th>45.8</th>\n",
              "      <td>0.969673</td>\n",
              "      <td>0.958178</td>\n",
              "    </tr>\n",
              "    <tr>\n",
              "      <th>45.9</th>\n",
              "      <td>0.940429</td>\n",
              "      <td>0.927437</td>\n",
              "    </tr>\n",
              "    <tr>\n",
              "      <th>46.0</th>\n",
              "      <td>0.901788</td>\n",
              "      <td>0.887291</td>\n",
              "    </tr>\n",
              "    <tr>\n",
              "      <th>46.1</th>\n",
              "      <td>0.854137</td>\n",
              "      <td>0.838061</td>\n",
              "    </tr>\n",
              "    <tr>\n",
              "      <th>46.2</th>\n",
              "      <td>0.797952</td>\n",
              "      <td>0.779823</td>\n",
              "    </tr>\n",
              "    <tr>\n",
              "      <th>46.3</th>\n",
              "      <td>0.733794</td>\n",
              "      <td>0.713732</td>\n",
              "    </tr>\n",
              "    <tr>\n",
              "      <th>46.4</th>\n",
              "      <td>0.662304</td>\n",
              "      <td>0.640239</td>\n",
              "    </tr>\n",
              "    <tr>\n",
              "      <th>46.5</th>\n",
              "      <td>0.584197</td>\n",
              "      <td>0.559899</td>\n",
              "    </tr>\n",
              "    <tr>\n",
              "      <th>46.6</th>\n",
              "      <td>0.500252</td>\n",
              "      <td>0.474391</td>\n",
              "    </tr>\n",
              "    <tr>\n",
              "      <th>46.7</th>\n",
              "      <td>0.411309</td>\n",
              "      <td>0.384057</td>\n",
              "    </tr>\n",
              "    <tr>\n",
              "      <th>46.8</th>\n",
              "      <td>0.318257</td>\n",
              "      <td>0.289591</td>\n",
              "    </tr>\n",
              "    <tr>\n",
              "      <th>46.9</th>\n",
              "      <td>0.222024</td>\n",
              "      <td>0.192244</td>\n",
              "    </tr>\n",
              "    <tr>\n",
              "      <th>47.0</th>\n",
              "      <td>0.123573</td>\n",
              "      <td>0.092727</td>\n",
              "    </tr>\n",
              "    <tr>\n",
              "      <th>47.1</th>\n",
              "      <td>0.023888</td>\n",
              "      <td>-0.007820</td>\n",
              "    </tr>\n",
              "    <tr>\n",
              "      <th>47.2</th>\n",
              "      <td>-0.076037</td>\n",
              "      <td>-0.108494</td>\n",
              "    </tr>\n",
              "    <tr>\n",
              "      <th>47.3</th>\n",
              "      <td>-0.175201</td>\n",
              "      <td>-0.208483</td>\n",
              "    </tr>\n",
              "    <tr>\n",
              "      <th>47.4</th>\n",
              "      <td>-0.272615</td>\n",
              "      <td>-0.306844</td>\n",
              "    </tr>\n",
              "    <tr>\n",
              "      <th>47.5</th>\n",
              "      <td>-0.367305</td>\n",
              "      <td>-0.402498</td>\n",
              "    </tr>\n",
              "    <tr>\n",
              "      <th>47.6</th>\n",
              "      <td>-0.458325</td>\n",
              "      <td>-0.494641</td>\n",
              "    </tr>\n",
              "    <tr>\n",
              "      <th>47.7</th>\n",
              "      <td>-0.544766</td>\n",
              "      <td>-0.582054</td>\n",
              "    </tr>\n",
              "    <tr>\n",
              "      <th>47.8</th>\n",
              "      <td>-0.625764</td>\n",
              "      <td>-0.663841</td>\n",
              "    </tr>\n",
              "    <tr>\n",
              "      <th>47.9</th>\n",
              "      <td>-0.700509</td>\n",
              "      <td>-0.739366</td>\n",
              "    </tr>\n",
              "    <tr>\n",
              "      <th>48.0</th>\n",
              "      <td>-0.768255</td>\n",
              "      <td>-0.807229</td>\n",
              "    </tr>\n",
              "    <tr>\n",
              "      <th>48.1</th>\n",
              "      <td>-0.828324</td>\n",
              "      <td>-0.866846</td>\n",
              "    </tr>\n",
              "    <tr>\n",
              "      <th>48.2</th>\n",
              "      <td>-0.880118</td>\n",
              "      <td>-0.917754</td>\n",
              "    </tr>\n",
              "    <tr>\n",
              "      <th>48.3</th>\n",
              "      <td>-0.923117</td>\n",
              "      <td>-0.958708</td>\n",
              "    </tr>\n",
              "    <tr>\n",
              "      <th>48.4</th>\n",
              "      <td>-0.956893</td>\n",
              "      <td>-0.989301</td>\n",
              "    </tr>\n",
              "    <tr>\n",
              "      <th>48.5</th>\n",
              "      <td>-0.981108</td>\n",
              "      <td>-1.009274</td>\n",
              "    </tr>\n",
              "    <tr>\n",
              "      <th>48.6</th>\n",
              "      <td>-0.995521</td>\n",
              "      <td>-1.018384</td>\n",
              "    </tr>\n",
              "    <tr>\n",
              "      <th>48.7</th>\n",
              "      <td>-0.999986</td>\n",
              "      <td>-1.016812</td>\n",
              "    </tr>\n",
              "    <tr>\n",
              "      <th>48.8</th>\n",
              "      <td>-0.994460</td>\n",
              "      <td>-1.004482</td>\n",
              "    </tr>\n",
              "    <tr>\n",
              "      <th>48.9</th>\n",
              "      <td>-0.978997</td>\n",
              "      <td>-0.981527</td>\n",
              "    </tr>\n",
              "    <tr>\n",
              "      <th>49.0</th>\n",
              "      <td>-0.953753</td>\n",
              "      <td>-0.948508</td>\n",
              "    </tr>\n",
              "    <tr>\n",
              "      <th>49.1</th>\n",
              "      <td>-0.918979</td>\n",
              "      <td>-0.905685</td>\n",
              "    </tr>\n",
              "    <tr>\n",
              "      <th>49.2</th>\n",
              "      <td>-0.875023</td>\n",
              "      <td>-0.853864</td>\n",
              "    </tr>\n",
              "    <tr>\n",
              "      <th>49.3</th>\n",
              "      <td>-0.822324</td>\n",
              "      <td>-0.793892</td>\n",
              "    </tr>\n",
              "    <tr>\n",
              "      <th>49.4</th>\n",
              "      <td>-0.761408</td>\n",
              "      <td>-0.725895</td>\n",
              "    </tr>\n",
              "    <tr>\n",
              "      <th>49.5</th>\n",
              "      <td>-0.692885</td>\n",
              "      <td>-0.650785</td>\n",
              "    </tr>\n",
              "    <tr>\n",
              "      <th>49.6</th>\n",
              "      <td>-0.617439</td>\n",
              "      <td>-0.569619</td>\n",
              "    </tr>\n",
              "    <tr>\n",
              "      <th>49.7</th>\n",
              "      <td>-0.535823</td>\n",
              "      <td>-0.482801</td>\n",
              "    </tr>\n",
              "    <tr>\n",
              "      <th>49.8</th>\n",
              "      <td>-0.448854</td>\n",
              "      <td>-0.391358</td>\n",
              "    </tr>\n",
              "    <tr>\n",
              "      <th>49.9</th>\n",
              "      <td>-0.357400</td>\n",
              "      <td>-0.296585</td>\n",
              "    </tr>\n",
              "    <tr>\n",
              "      <th>50.0</th>\n",
              "      <td>-0.262375</td>\n",
              "      <td>-0.199227</td>\n",
              "    </tr>\n",
              "  </tbody>\n",
              "</table>\n",
              "</div>"
            ],
            "text/plain": [
              "          Sine  Predictions\n",
              "45.1  0.899097     0.897336\n",
              "45.2  0.938307     0.935253\n",
              "45.3  0.968142     0.963777\n",
              "45.4  0.988304     0.982371\n",
              "45.5  0.998591     0.991571\n",
              "45.6  0.998900     0.990342\n",
              "45.7  0.989229     0.979082\n",
              "45.8  0.969673     0.958178\n",
              "45.9  0.940429     0.927437\n",
              "46.0  0.901788     0.887291\n",
              "46.1  0.854137     0.838061\n",
              "46.2  0.797952     0.779823\n",
              "46.3  0.733794     0.713732\n",
              "46.4  0.662304     0.640239\n",
              "46.5  0.584197     0.559899\n",
              "46.6  0.500252     0.474391\n",
              "46.7  0.411309     0.384057\n",
              "46.8  0.318257     0.289591\n",
              "46.9  0.222024     0.192244\n",
              "47.0  0.123573     0.092727\n",
              "47.1  0.023888    -0.007820\n",
              "47.2 -0.076037    -0.108494\n",
              "47.3 -0.175201    -0.208483\n",
              "47.4 -0.272615    -0.306844\n",
              "47.5 -0.367305    -0.402498\n",
              "47.6 -0.458325    -0.494641\n",
              "47.7 -0.544766    -0.582054\n",
              "47.8 -0.625764    -0.663841\n",
              "47.9 -0.700509    -0.739366\n",
              "48.0 -0.768255    -0.807229\n",
              "48.1 -0.828324    -0.866846\n",
              "48.2 -0.880118    -0.917754\n",
              "48.3 -0.923117    -0.958708\n",
              "48.4 -0.956893    -0.989301\n",
              "48.5 -0.981108    -1.009274\n",
              "48.6 -0.995521    -1.018384\n",
              "48.7 -0.999986    -1.016812\n",
              "48.8 -0.994460    -1.004482\n",
              "48.9 -0.978997    -0.981527\n",
              "49.0 -0.953753    -0.948508\n",
              "49.1 -0.918979    -0.905685\n",
              "49.2 -0.875023    -0.853864\n",
              "49.3 -0.822324    -0.793892\n",
              "49.4 -0.761408    -0.725895\n",
              "49.5 -0.692885    -0.650785\n",
              "49.6 -0.617439    -0.569619\n",
              "49.7 -0.535823    -0.482801\n",
              "49.8 -0.448854    -0.391358\n",
              "49.9 -0.357400    -0.296585\n",
              "50.0 -0.262375    -0.199227"
            ]
          },
          "metadata": {
            "tags": []
          },
          "execution_count": 96
        }
      ]
    },
    {
      "cell_type": "code",
      "metadata": {
        "id": "RpqLLZLRwb2h",
        "colab_type": "code",
        "colab": {
          "base_uri": "https://localhost:8080/",
          "height": 500
        },
        "outputId": "3627f30f-2624-4876-80d5-7ac24160aa14"
      },
      "source": [
        "test.plot(figsize=(12,8))"
      ],
      "execution_count": 97,
      "outputs": [
        {
          "output_type": "execute_result",
          "data": {
            "text/plain": [
              "<matplotlib.axes._subplots.AxesSubplot at 0x7f9f0fc1ceb8>"
            ]
          },
          "metadata": {
            "tags": []
          },
          "execution_count": 97
        },
        {
          "output_type": "display_data",
          "data": {
            "image/png": "[encoded data removed]",
            "text/plain": [
              "<Figure size 864x576 with 1 Axes>"
            ]
          },
          "metadata": {
            "tags": []
          }
        }
      ]
    },
    {
      "cell_type": "code",
      "metadata": {
        "id": "c6vLLX2fwgAT",
        "colab_type": "code",
        "colab": {}
      },
      "source": [
        "from tensorflow.keras.callbacks import EarlyStopping"
      ],
      "execution_count": 0,
      "outputs": []
    },
    {
      "cell_type": "code",
      "metadata": {
        "id": "OhdPQI6Qx6t5",
        "colab_type": "code",
        "colab": {}
      },
      "source": [
        "early_stop = EarlyStopping(monitor='val_loss',patience=2)"
      ],
      "execution_count": 0,
      "outputs": []
    },
    {
      "cell_type": "code",
      "metadata": {
        "id": "FPn4jrvsycT5",
        "colab_type": "code",
        "colab": {}
      },
      "source": [
        "length = 49\n",
        "generator = TimeseriesGenerator(scaled_train,scaled_train,\n",
        "                                length=length,batch_size=1)\n",
        "\n",
        "validation_generator = TimeseriesGenerator(scaled_test,scaled_test,\n",
        "                                           length=length,batch_size=1)"
      ],
      "execution_count": 0,
      "outputs": []
    },
    {
      "cell_type": "code",
      "metadata": {
        "id": "dRWVQjHKzGEQ",
        "colab_type": "code",
        "colab": {}
      },
      "source": [
        "model = Sequential()\n",
        "\n",
        "model.add(LSTM(50,input_shape=(length,n_features)))\n",
        "\n",
        "model.add(Dense(1))\n",
        "\n",
        "model.compile(optimizer='adam',loss='mse')"
      ],
      "execution_count": 0,
      "outputs": []
    },
    {
      "cell_type": "code",
      "metadata": {
        "id": "BlrJ_PEhzuSJ",
        "colab_type": "code",
        "colab": {
          "base_uri": "https://localhost:8080/",
          "height": 357
        },
        "outputId": "ca0d28cc-7b4d-48ba-b167-2b34f06f2710"
      },
      "source": [
        "model.fit_generator(generator,epochs=20,\n",
        "                    validation_data=validation_generator,\n",
        "                    callbacks=[early_stop])"
      ],
      "execution_count": 104,
      "outputs": [
        {
          "output_type": "stream",
          "text": [
            "WARNING:tensorflow:sample_weight modes were coerced from\n",
            "  ...\n",
            "    to  \n",
            "  ['...']\n",
            "WARNING:tensorflow:sample_weight modes were coerced from\n",
            "  ...\n",
            "    to  \n",
            "  ['...']\n",
            "Train for 402 steps, validate for 1 steps\n",
            "Epoch 1/20\n",
            "402/402 [==============================] - 10s 25ms/step - loss: 0.0211 - val_loss: 2.7296e-05\n",
            "Epoch 2/20\n",
            "402/402 [==============================] - 9s 21ms/step - loss: 1.3474e-04 - val_loss: 3.7193e-05\n",
            "Epoch 3/20\n",
            "402/402 [==============================] - 9s 22ms/step - loss: 8.5115e-05 - val_loss: 1.4242e-07\n",
            "Epoch 4/20\n",
            "402/402 [==============================] - 9s 22ms/step - loss: 3.1566e-04 - val_loss: 2.3475e-06\n",
            "Epoch 5/20\n",
            "402/402 [==============================] - 9s 22ms/step - loss: 1.2246e-04 - val_loss: 1.3020e-05\n"
          ],
          "name": "stdout"
        },
        {
          "output_type": "execute_result",
          "data": {
            "text/plain": [
              "<tensorflow.python.keras.callbacks.History at 0x7f9f0a723630>"
            ]
          },
          "metadata": {
            "tags": []
          },
          "execution_count": 104
        }
      ]
    },
    {
      "cell_type": "code",
      "metadata": {
        "id": "ZVxotZ2uz6UH",
        "colab_type": "code",
        "colab": {}
      },
      "source": [
        "test_predictions = []\n",
        "\n",
        "first_eval_batch = scaled_train[-length:]\n",
        "current_batch = first_eval_batch.reshape((1, length, n_features))\n",
        "\n",
        "for i in range(len(test)):\n",
        "    \n",
        "    # get prediction 1 time stamp ahead ([0] is for grabbing just the number instead of [array])\n",
        "    current_pred = model.predict(current_batch)[0]\n",
        "    \n",
        "    # store prediction\n",
        "    test_predictions.append(current_pred) \n",
        "    \n",
        "    # update batch to now include prediction and drop first value\n",
        "    current_batch = np.append(current_batch[:,1:,:],[[current_pred]],axis=1)"
      ],
      "execution_count": 0,
      "outputs": []
    },
    {
      "cell_type": "code",
      "metadata": {
        "id": "AH-qd-yp0bgP",
        "colab_type": "code",
        "colab": {
          "base_uri": "https://localhost:8080/",
          "height": 602
        },
        "outputId": "1741a941-0b12-4bc6-e401-07581f3d6777"
      },
      "source": [
        "true_predictions = scaler.inverse_transform(test_predictions)\n",
        "test['LSTM Predictions'] = true_predictions\n",
        "test.plot(figsize=(12,8))"
      ],
      "execution_count": 107,
      "outputs": [
        {
          "output_type": "stream",
          "text": [
            "/usr/local/lib/python3.6/dist-packages/ipykernel_launcher.py:2: SettingWithCopyWarning: \n",
            "A value is trying to be set on a copy of a slice from a DataFrame.\n",
            "Try using .loc[row_indexer,col_indexer] = value instead\n",
            "\n",
            "See the caveats in the documentation: http://pandas.pydata.org/pandas-docs/stable/user_guide/indexing.html#returning-a-view-versus-a-copy\n",
            "  \n"
          ],
          "name": "stderr"
        },
        {
          "output_type": "execute_result",
          "data": {
            "text/plain": [
              "<matplotlib.axes._subplots.AxesSubplot at 0x7f9f0f16f390>"
            ]
          },
          "metadata": {
            "tags": []
          },
          "execution_count": 107
        },
        {
          "output_type": "display_data",
          "data": {
            "image/png": "[encoded data removed]",
            "text/plain": [
              "<Figure size 864x576 with 1 Axes>"
            ]
          },
          "metadata": {
            "tags": []
          }
        }
      ]
    },
    {
      "cell_type": "code",
      "metadata": {
        "id": "DhvhNY4X0cZ8",
        "colab_type": "code",
        "colab": {}
      },
      "source": [
        "full_scaler = MinMaxScaler()\n",
        "scaled_full_data = full_scaler.fit_transform(df)"
      ],
      "execution_count": 0,
      "outputs": []
    },
    {
      "cell_type": "code",
      "metadata": {
        "id": "sKtgkGYa0_OC",
        "colab_type": "code",
        "colab": {}
      },
      "source": [
        "# length = 50 # Length of the output sequences (in number of timesteps)\n",
        "generator = TimeseriesGenerator(scaled_full_data, scaled_full_data, length=length, batch_size=1)"
      ],
      "execution_count": 0,
      "outputs": []
    },
    {
      "cell_type": "code",
      "metadata": {
        "id": "mqGQrRPb1Gbn",
        "colab_type": "code",
        "colab": {}
      },
      "source": [
        "model = Sequential()\n",
        "\n",
        "model.add(LSTM(50,input_shape=(length,n_features)))\n",
        "\n",
        "model.add(Dense(1))\n",
        "\n",
        "model.compile(optimizer='adam',loss='mse')"
      ],
      "execution_count": 0,
      "outputs": []
    },
    {
      "cell_type": "code",
      "metadata": {
        "id": "JN0QO0p91MHS",
        "colab_type": "code",
        "colab": {
          "base_uri": "https://localhost:8080/",
          "height": 323
        },
        "outputId": "e12ae9bd-ccfe-4165-e92b-e019ccc4bc69"
      },
      "source": [
        "model.fit_generator(generator,epochs=6)"
      ],
      "execution_count": 111,
      "outputs": [
        {
          "output_type": "stream",
          "text": [
            "WARNING:tensorflow:sample_weight modes were coerced from\n",
            "  ...\n",
            "    to  \n",
            "  ['...']\n",
            "Train for 452 steps\n",
            "Epoch 1/6\n",
            "452/452 [==============================] - 11s 23ms/step - loss: 0.0156\n",
            "Epoch 2/6\n",
            "452/452 [==============================] - 10s 22ms/step - loss: 1.7665e-04\n",
            "Epoch 3/6\n",
            "452/452 [==============================] - 10s 22ms/step - loss: 2.6641e-04\n",
            "Epoch 4/6\n",
            "452/452 [==============================] - 10s 22ms/step - loss: 2.2515e-04\n",
            "Epoch 5/6\n",
            "452/452 [==============================] - 10s 22ms/step - loss: 7.3899e-05\n",
            "Epoch 6/6\n",
            "452/452 [==============================] - 10s 22ms/step - loss: 2.2073e-04\n"
          ],
          "name": "stdout"
        },
        {
          "output_type": "execute_result",
          "data": {
            "text/plain": [
              "<tensorflow.python.keras.callbacks.History at 0x7f9f0efb2358>"
            ]
          },
          "metadata": {
            "tags": []
          },
          "execution_count": 111
        }
      ]
    },
    {
      "cell_type": "code",
      "metadata": {
        "id": "NMH0ybv51SS9",
        "colab_type": "code",
        "colab": {}
      },
      "source": [
        "forecast = []\n",
        "\n",
        "first_eval_batch = scaled_train[-length:]\n",
        "current_batch = first_eval_batch.reshape((1, length, n_features))\n",
        "\n",
        "for i in range(25):\n",
        "    \n",
        "    # get prediction 1 time stamp ahead ([0] is for grabbing just the number instead of [array])\n",
        "    current_pred = model.predict(current_batch)[0]\n",
        "    \n",
        "    # store prediction\n",
        "    forecast.append(current_pred) \n",
        "    \n",
        "    # update batch to now include prediction and drop first value\n",
        "    current_batch = np.append(current_batch[:,1:,:],[[current_pred]],axis=1)"
      ],
      "execution_count": 0,
      "outputs": []
    },
    {
      "cell_type": "code",
      "metadata": {
        "id": "5qpLZm7l18sf",
        "colab_type": "code",
        "colab": {
          "base_uri": "https://localhost:8080/",
          "height": 419
        },
        "outputId": "3a15d97a-f936-4d68-95bd-2e589633d470"
      },
      "source": [
        "df"
      ],
      "execution_count": 113,
      "outputs": [
        {
          "output_type": "execute_result",
          "data": {
            "text/html": [
              "<div>\n",
              "<style scoped>\n",
              "    .dataframe tbody tr th:only-of-type {\n",
              "        vertical-align: middle;\n",
              "    }\n",
              "\n",
              "    .dataframe tbody tr th {\n",
              "        vertical-align: top;\n",
              "    }\n",
              "\n",
              "    .dataframe thead th {\n",
              "        text-align: right;\n",
              "    }\n",
              "</style>\n",
              "<table border=\"1\" class=\"dataframe\">\n",
              "  <thead>\n",
              "    <tr style=\"text-align: right;\">\n",
              "      <th></th>\n",
              "      <th>Sine</th>\n",
              "    </tr>\n",
              "  </thead>\n",
              "  <tbody>\n",
              "    <tr>\n",
              "      <th>0.0</th>\n",
              "      <td>0.000000</td>\n",
              "    </tr>\n",
              "    <tr>\n",
              "      <th>0.1</th>\n",
              "      <td>0.099833</td>\n",
              "    </tr>\n",
              "    <tr>\n",
              "      <th>0.2</th>\n",
              "      <td>0.198669</td>\n",
              "    </tr>\n",
              "    <tr>\n",
              "      <th>0.3</th>\n",
              "      <td>0.295520</td>\n",
              "    </tr>\n",
              "    <tr>\n",
              "      <th>0.4</th>\n",
              "      <td>0.389418</td>\n",
              "    </tr>\n",
              "    <tr>\n",
              "      <th>...</th>\n",
              "      <td>...</td>\n",
              "    </tr>\n",
              "    <tr>\n",
              "      <th>49.6</th>\n",
              "      <td>-0.617439</td>\n",
              "    </tr>\n",
              "    <tr>\n",
              "      <th>49.7</th>\n",
              "      <td>-0.535823</td>\n",
              "    </tr>\n",
              "    <tr>\n",
              "      <th>49.8</th>\n",
              "      <td>-0.448854</td>\n",
              "    </tr>\n",
              "    <tr>\n",
              "      <th>49.9</th>\n",
              "      <td>-0.357400</td>\n",
              "    </tr>\n",
              "    <tr>\n",
              "      <th>50.0</th>\n",
              "      <td>-0.262375</td>\n",
              "    </tr>\n",
              "  </tbody>\n",
              "</table>\n",
              "<p>501 rows × 1 columns</p>\n",
              "</div>"
            ],
            "text/plain": [
              "          Sine\n",
              "0.0   0.000000\n",
              "0.1   0.099833\n",
              "0.2   0.198669\n",
              "0.3   0.295520\n",
              "0.4   0.389418\n",
              "...        ...\n",
              "49.6 -0.617439\n",
              "49.7 -0.535823\n",
              "49.8 -0.448854\n",
              "49.9 -0.357400\n",
              "50.0 -0.262375\n",
              "\n",
              "[501 rows x 1 columns]"
            ]
          },
          "metadata": {
            "tags": []
          },
          "execution_count": 113
        }
      ]
    },
    {
      "cell_type": "code",
      "metadata": {
        "id": "4d1Gov6Z19ls",
        "colab_type": "code",
        "colab": {}
      },
      "source": [
        "forecast = scaler.inverse_transform(forecast)"
      ],
      "execution_count": 0,
      "outputs": []
    },
    {
      "cell_type": "code",
      "metadata": {
        "id": "5hduvKYp2DQO",
        "colab_type": "code",
        "colab": {
          "base_uri": "https://localhost:8080/",
          "height": 442
        },
        "outputId": "314fc694-6248-41cd-f812-0ade114e2474"
      },
      "source": [
        "# forecast"
      ],
      "execution_count": 115,
      "outputs": [
        {
          "output_type": "execute_result",
          "data": {
            "text/plain": [
              "array([[ 0.91808808],\n",
              "       [ 0.9571455 ],\n",
              "       [ 0.98742084],\n",
              "       [ 1.00822198],\n",
              "       [ 1.01913836],\n",
              "       [ 1.01996543],\n",
              "       [ 1.01066861],\n",
              "       [ 0.99135233],\n",
              "       [ 0.96224321],\n",
              "       [ 0.9236687 ],\n",
              "       [ 0.87604545],\n",
              "       [ 0.81986495],\n",
              "       [ 0.75568616],\n",
              "       [ 0.68412635],\n",
              "       [ 0.60585487],\n",
              "       [ 0.52159235],\n",
              "       [ 0.43210325],\n",
              "       [ 0.33819509],\n",
              "       [ 0.24071534],\n",
              "       [ 0.14054792],\n",
              "       [ 0.03861108],\n",
              "       [-0.06414865],\n",
              "       [-0.1667568 ],\n",
              "       [-0.26822026],\n",
              "       [-0.3675298 ]])"
            ]
          },
          "metadata": {
            "tags": []
          },
          "execution_count": 115
        }
      ]
    },
    {
      "cell_type": "code",
      "metadata": {
        "id": "8rGs5_Bj2ECt",
        "colab_type": "code",
        "colab": {}
      },
      "source": [
        "forecast_index = np.arange(50.1,52.6,step=0.1)"
      ],
      "execution_count": 0,
      "outputs": []
    },
    {
      "cell_type": "code",
      "metadata": {
        "id": "Azh1Sqb12USy",
        "colab_type": "code",
        "colab": {
          "base_uri": "https://localhost:8080/",
          "height": 34
        },
        "outputId": "db538a43-3b96-4a3c-cf2c-d019468cfa6a"
      },
      "source": [
        "len(forecast_index)"
      ],
      "execution_count": 117,
      "outputs": [
        {
          "output_type": "execute_result",
          "data": {
            "text/plain": [
              "25"
            ]
          },
          "metadata": {
            "tags": []
          },
          "execution_count": 117
        }
      ]
    },
    {
      "cell_type": "code",
      "metadata": {
        "id": "v33mrHcx2WQN",
        "colab_type": "code",
        "colab": {
          "base_uri": "https://localhost:8080/",
          "height": 282
        },
        "outputId": "1cd826ba-a0ab-4826-faa9-4c25484af876"
      },
      "source": [
        "plt.plot(df.index,df['Sine'])\n",
        "plt.plot(forecast_index,forecast)"
      ],
      "execution_count": 118,
      "outputs": [
        {
          "output_type": "execute_result",
          "data": {
            "text/plain": [
              "[<matplotlib.lines.Line2D at 0x7f9f0e490710>]"
            ]
          },
          "metadata": {
            "tags": []
          },
          "execution_count": 118
        },
        {
          "output_type": "display_data",
          "data": {
            "image/png": "[encoded data removed]",
            "text/plain": [
              "<Figure size 432x288 with 1 Axes>"
            ]
          },
          "metadata": {
            "tags": []
          }
        }
      ]
    },
    {
      "cell_type": "code",
      "metadata": {
        "id": "tDQLePKe2fl1",
        "colab_type": "code",
        "colab": {}
      },
      "source": [
        ""
      ],
      "execution_count": 0,
      "outputs": []
    }
  ]
}